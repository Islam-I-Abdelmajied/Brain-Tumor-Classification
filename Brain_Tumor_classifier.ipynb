{
  "nbformat": 4,
  "nbformat_minor": 0,
  "metadata": {
    "orig_nbformat": 2,
    "file_extension": ".py",
    "mimetype": "text/x-python",
    "name": "python",
    "npconvert_exporter": "python",
    "pygments_lexer": "ipython3",
    "version": 3,
    "kernelspec": {
      "name": "python3",
      "display_name": "Python 3"
    },
    "colab": {
      "name": "Brain_Tumor_classifier.ipynb",
      "provenance": [],
      "collapsed_sections": [],
      "include_colab_link": true
    },
    "accelerator": "GPU"
  },
  "cells": [
    {
      "cell_type": "markdown",
      "metadata": {
        "id": "view-in-github",
        "colab_type": "text"
      },
      "source": [
        "<a href=\"https://colab.research.google.com/github/Islam-I-Abdelmajied/Brain-Tumor-Classification/blob/master/Brain_Tumor_classifier.ipynb\" target=\"_parent\"><img src=\"https://colab.research.google.com/assets/colab-badge.svg\" alt=\"Open In Colab\"/></a>"
      ]
    },
    {
      "cell_type": "markdown",
      "metadata": {
        "id": "N7eYiR4BBpNy",
        "colab_type": "text"
      },
      "source": [
        "# Data preprocessing "
      ]
    },
    {
      "cell_type": "code",
      "metadata": {
        "id": "FrSDvKtxP6r0",
        "colab_type": "code",
        "outputId": "320c7b43-d15f-4e04-827a-d1b2ba32ea59",
        "colab": {
          "base_uri": "https://localhost:8080/",
          "height": 101
        }
      },
      "source": [
        "!pip install wget\n",
        "!pip install mat73"
      ],
      "execution_count": 0,
      "outputs": [
        {
          "output_type": "stream",
          "text": [
            "Requirement already satisfied: wget in /usr/local/lib/python3.6/dist-packages (3.2)\n",
            "Requirement already satisfied: mat73 in /usr/local/lib/python3.6/dist-packages (0.35)\n",
            "Requirement already satisfied: h5py in /usr/local/lib/python3.6/dist-packages (from mat73) (2.8.0)\n",
            "Requirement already satisfied: numpy in /usr/local/lib/python3.6/dist-packages (from mat73) (1.18.1)\n",
            "Requirement already satisfied: six in /usr/local/lib/python3.6/dist-packages (from h5py->mat73) (1.12.0)\n"
          ],
          "name": "stdout"
        }
      ]
    },
    {
      "cell_type": "markdown",
      "metadata": {
        "id": "PnHN50zvBy3l",
        "colab_type": "text"
      },
      "source": [
        "### 1) Extract data"
      ]
    },
    {
      "cell_type": "code",
      "metadata": {
        "id": "rYo2btn1veMG",
        "colab_type": "code",
        "outputId": "6a29e03c-b29c-4bea-94c9-076bb7673867",
        "colab": {
          "base_uri": "https://localhost:8080/",
          "height": 34
        }
      },
      "source": [
        "import wget\n",
        "from tqdm import tqdm\n",
        "url ='https://ndownloader.figshare.com/articles/1512427/versions/5'\n",
        "wget.download(url)\n",
        "import os\n",
        "os.rename('1512427.zip', 'mat_data.zip')\n",
        "\n",
        "\n",
        "\n",
        "import zipfile\n",
        "with zipfile.ZipFile(\"mat_data.zip\",\"r\") as zip_ref:\n",
        "    zip_ref.extractall(\"datasetzipfiles\")\n",
        "os.remove('/content/mat_data.zip')\n",
        "\n",
        "\n",
        "os.remove('/content/datasetzipfiles/README.txt')\n",
        "os.remove('/content/datasetzipfiles/cvind.mat')\n",
        "\n",
        "zipfiles = os.listdir('/content/datasetzipfiles')\n",
        "\n",
        "\n",
        "for file in tqdm(zipfiles):\n",
        "    with zipfile.ZipFile('/content/datasetzipfiles/'+file,\"r\") as zip_ref:\n",
        "        zip_ref.extractall(\"/content/dataset\")\n",
        "    os.remove('/content/datasetzipfiles/'+file)\n",
        "os.rmdir('/content/datasetzipfiles')\n"
      ],
      "execution_count": 0,
      "outputs": [
        {
          "output_type": "stream",
          "text": [
            "100%|██████████| 4/4 [00:20<00:00,  4.80s/it]\n"
          ],
          "name": "stderr"
        }
      ]
    },
    {
      "cell_type": "code",
      "metadata": {
        "id": "YQpkKK1d0832",
        "colab_type": "code",
        "outputId": "3f0164a9-5b6d-4df0-a858-edc8398d2d12",
        "colab": {
          "base_uri": "https://localhost:8080/",
          "height": 50
        }
      },
      "source": [
        "#Check data\n",
        "mat_dataset = os.listdir('/content/dataset')\n",
        "print(len(mat_dataset))\n",
        "print(mat_dataset[0])"
      ],
      "execution_count": 0,
      "outputs": [
        {
          "output_type": "stream",
          "text": [
            "3064\n",
            "3023.mat\n"
          ],
          "name": "stdout"
        }
      ]
    },
    {
      "cell_type": "code",
      "metadata": {
        "id": "Ec5dk6rusA-a",
        "colab_type": "code",
        "colab": {}
      },
      "source": [
        "import torch\n",
        "import torchvision\n",
        "from torch.utils.data import Dataset, DataLoader\n",
        "from torch.utils.data.sampler import SubsetRandomSampler\n",
        "from torchvision import transforms, utils, models\n",
        "\n",
        "import numpy as np \n",
        "import PIL\n",
        "import os\n",
        "\n",
        "import mat73\n",
        "from tqdm import tqdm\n",
        "import matplotlib.pyplot as plt \n",
        "%matplotlib inline\n",
        "plt.ion()"
      ],
      "execution_count": 0,
      "outputs": []
    },
    {
      "cell_type": "markdown",
      "metadata": {
        "id": "TT3-wTszsA-c",
        "colab_type": "text"
      },
      "source": [
        "## Data loading"
      ]
    },
    {
      "cell_type": "code",
      "metadata": {
        "id": "7L5kFkUNsA-n",
        "colab_type": "code",
        "colab": {}
      },
      "source": [
        "########### try using balanced classes 708 930 1000 ###########"
      ],
      "execution_count": 0,
      "outputs": []
    },
    {
      "cell_type": "markdown",
      "metadata": {
        "id": "uRLrXAdhsA-s",
        "colab_type": "text"
      },
      "source": [
        "### 2) Transform data"
      ]
    },
    {
      "cell_type": "code",
      "metadata": {
        "id": "_iL5hraYYd-9",
        "colab_type": "code",
        "colab": {}
      },
      "source": [
        "# def mat_to_list(dir):\n",
        "#     files = os.listdir(dir)\n",
        "#     data_struct = []\n",
        "\n",
        "#     for file in tqdm(files):\n",
        "#         data_dict = mat73.loadmat(dir + file)\n",
        "#         data_struct.append([np.float32(data_dict['cjdata']['image']), int(data_dict['cjdata']['label'])-1])\n",
        "#     return data_struct\n",
        "\n",
        "# dataset = mat_to_list('/content/dataset/')\n",
        "\n"
      ],
      "execution_count": 0,
      "outputs": []
    },
    {
      "cell_type": "code",
      "metadata": {
        "id": "RflIxBJ4Y1YN",
        "colab_type": "code",
        "colab": {}
      },
      "source": [
        ""
      ],
      "execution_count": 0,
      "outputs": []
    },
    {
      "cell_type": "code",
      "metadata": {
        "id": "AMcnmBABPcfc",
        "colab_type": "code",
        "outputId": "f8a74478-e9c0-4f3b-d72c-4a3b49bc6d19",
        "colab": {
          "base_uri": "https://localhost:8080/",
          "height": 34
        }
      },
      "source": [
        "# dataset = mat_to_list('/content/dataset/')\n",
        "# batch_size = 16\n",
        "# test_size = .2\n",
        "# valid_size = .2\n",
        "# shuffle_dataset = True\n",
        "# seed= 69\n",
        "\n",
        "# dataset_size = len(dataset)\n",
        "# train_split = int(np.floor(dataset_size - dataset_size * (test_size + valid_size) ))\n",
        "# test_split = int(np.floor(train_split + dataset_size * test_size ))\n",
        "\n",
        "# indices = list(range(dataset_size))\n",
        "# if shuffle_dataset :\n",
        "#     np.random.seed(seed)\n",
        "#     np.random.shuffle(indices)\n",
        "\n",
        "# train_indices, test_indices, valid_indices = indices[:train_split], indices[train_split: test_split], indices[test_split:]"
      ],
      "execution_count": 0,
      "outputs": [
        {
          "output_type": "stream",
          "text": [
            "100%|██████████| 3064/3064 [00:26<00:00, 115.76it/s]\n"
          ],
          "name": "stderr"
        }
      ]
    },
    {
      "cell_type": "code",
      "metadata": {
        "id": "w9WW3z-sQVA9",
        "colab_type": "code",
        "outputId": "1906af38-5451-464b-a49a-675368e6049b",
        "colab": {
          "base_uri": "https://localhost:8080/",
          "height": 34
        }
      },
      "source": [
        "# len(dataset)"
      ],
      "execution_count": 0,
      "outputs": [
        {
          "output_type": "execute_result",
          "data": {
            "text/plain": [
              "3064"
            ]
          },
          "metadata": {
            "tags": []
          },
          "execution_count": 19
        }
      ]
    },
    {
      "cell_type": "code",
      "metadata": {
        "id": "at1h3GZIP1zu",
        "colab_type": "code",
        "colab": {}
      },
      "source": [
        "# train_dataset = dataset[:train_split]\n",
        "# test_dataset = dataset[train_split: test_split]\n",
        "# valid_dataset = dataset[test_split:]"
      ],
      "execution_count": 0,
      "outputs": []
    },
    {
      "cell_type": "code",
      "metadata": {
        "id": "LCJ8xH6GRMKF",
        "colab_type": "code",
        "outputId": "52c75026-2023-4526-fc2f-2d6bd32ac995",
        "colab": {
          "base_uri": "https://localhost:8080/",
          "height": 67
        }
      },
      "source": [
        "# print(len(train_dataset))\n",
        "# print(len(test_dataset))\n",
        "# print(len(valid_dataset))"
      ],
      "execution_count": 0,
      "outputs": [
        {
          "output_type": "stream",
          "text": [
            "1838\n",
            "612\n",
            "614\n"
          ],
          "name": "stdout"
        }
      ]
    },
    {
      "cell_type": "code",
      "metadata": {
        "id": "xkpSrVyosA-t",
        "colab_type": "code",
        "colab": {}
      },
      "source": [
        "class BrainTumorDataset(Dataset):\n",
        "    def __init__(self, dir, transform=None):\n",
        "\n",
        "        self.files = os.listdir(dir)\n",
        "        self.data_struct = []\n",
        "        self.transform = transform\n",
        "\n",
        "        for file in tqdm(self.files):\n",
        "            data_dict = mat73.loadmat(dir + file)\n",
        "            self.data_struct.append([np.float32(data_dict['cjdata']['image']), int(data_dict['cjdata']['label'])-1])\n",
        "        \n",
        "    def __len__(self):\n",
        "        return len(self.data_struct)\n",
        "\n",
        "    def __getitem__(self, index):\n",
        "\n",
        "        image = PIL.Image.fromarray(self.data_struct[index][0])\n",
        "\n",
        "\n",
        "        if self.transform:\n",
        "            image = self.transform(image)\n",
        "\n",
        "        label = self.data_struct[index][1]\n",
        "\n",
        "        sample = image , label\n",
        "        return sample"
      ],
      "execution_count": 0,
      "outputs": []
    },
    {
      "cell_type": "code",
      "metadata": {
        "id": "VSjVC6eisA-w",
        "colab_type": "code",
        "colab": {}
      },
      "source": [
        "data_transform = transforms.Compose([transforms.Resize(512),\n",
        "                                     transforms.ToTensor()])"
      ],
      "execution_count": 0,
      "outputs": []
    },
    {
      "cell_type": "markdown",
      "metadata": {
        "id": "5ueD8llWCCDO",
        "colab_type": "text"
      },
      "source": [
        "### 3) Load data"
      ]
    },
    {
      "cell_type": "code",
      "metadata": {
        "id": "BlyoojFqsA_A",
        "colab_type": "code",
        "outputId": "79e9a137-1a45-4c5c-9c44-9c05b9330812",
        "colab": {
          "base_uri": "https://localhost:8080/",
          "height": 454
        }
      },
      "source": [
        "dataset = BrainTumorDataset('/content/dataset/', transform=data_transform)\n",
        "\n",
        "batch_size = 32\n",
        "test_size = .2\n",
        "valid_size = .2\n",
        "shuffle_dataset = True\n",
        "seed= 69\n",
        "\n",
        "dataset_size = len(dataset)\n",
        "train_split = int(np.floor(dataset_size - dataset_size * (test_size + valid_size) ))\n",
        "test_split = int(np.floor(train_split + dataset_size * test_size ))\n",
        "\n",
        "indices = list(range(dataset_size))\n",
        "if shuffle_dataset :\n",
        "    np.random.seed(seed)\n",
        "    np.random.shuffle(indices)\n",
        "\n",
        "train_indices, test_indices, valid_indices = indices[:train_split], indices[train_split: test_split], indices[test_split:]\n",
        "\n",
        "train_sampler = SubsetRandomSampler(train_indices)\n",
        "test_sampler = SubsetRandomSampler(test_indices)\n",
        "valid_sampler = SubsetRandomSampler(valid_indices)\n",
        "\n",
        "train_loader = DataLoader(dataset, batch_size=batch_size, sampler=train_sampler)\n",
        "test_loader = DataLoader(dataset, batch_size=batch_size, sampler=test_sampler)\n",
        "valid_loader = DataLoader(dataset, batch_size=batch_size, sampler=valid_sampler)"
      ],
      "execution_count": 0,
      "outputs": [
        {
          "output_type": "stream",
          "text": [
            " 12%|█▏        | 354/3064 [00:02<00:20, 132.27it/s]\n"
          ],
          "name": "stderr"
        },
        {
          "output_type": "error",
          "ename": "KeyboardInterrupt",
          "evalue": "ignored",
          "traceback": [
            "\u001b[0;31m---------------------------------------------------------------------------\u001b[0m",
            "\u001b[0;31mKeyboardInterrupt\u001b[0m                         Traceback (most recent call last)",
            "\u001b[0;32m<ipython-input-20-320982825df3>\u001b[0m in \u001b[0;36m<module>\u001b[0;34m()\u001b[0m\n\u001b[0;32m----> 1\u001b[0;31m \u001b[0mdataset\u001b[0m \u001b[0;34m=\u001b[0m \u001b[0mBrainTumorDataset\u001b[0m\u001b[0;34m(\u001b[0m\u001b[0;34m'/content/dataset/'\u001b[0m\u001b[0;34m,\u001b[0m \u001b[0mtransform\u001b[0m\u001b[0;34m=\u001b[0m\u001b[0mdata_transform\u001b[0m\u001b[0;34m)\u001b[0m\u001b[0;34m\u001b[0m\u001b[0;34m\u001b[0m\u001b[0m\n\u001b[0m\u001b[1;32m      2\u001b[0m \u001b[0;34m\u001b[0m\u001b[0m\n\u001b[1;32m      3\u001b[0m \u001b[0mbatch_size\u001b[0m \u001b[0;34m=\u001b[0m \u001b[0;36m32\u001b[0m\u001b[0;34m\u001b[0m\u001b[0;34m\u001b[0m\u001b[0m\n\u001b[1;32m      4\u001b[0m \u001b[0mtest_size\u001b[0m \u001b[0;34m=\u001b[0m \u001b[0;36m.2\u001b[0m\u001b[0;34m\u001b[0m\u001b[0;34m\u001b[0m\u001b[0m\n\u001b[1;32m      5\u001b[0m \u001b[0mvalid_size\u001b[0m \u001b[0;34m=\u001b[0m \u001b[0;36m.2\u001b[0m\u001b[0;34m\u001b[0m\u001b[0;34m\u001b[0m\u001b[0m\n",
            "\u001b[0;32m<ipython-input-6-c1d3d23e4a08>\u001b[0m in \u001b[0;36m__init__\u001b[0;34m(self, dir, transform)\u001b[0m\n\u001b[1;32m      7\u001b[0m \u001b[0;34m\u001b[0m\u001b[0m\n\u001b[1;32m      8\u001b[0m         \u001b[0;32mfor\u001b[0m \u001b[0mfile\u001b[0m \u001b[0;32min\u001b[0m \u001b[0mtqdm\u001b[0m\u001b[0;34m(\u001b[0m\u001b[0mself\u001b[0m\u001b[0;34m.\u001b[0m\u001b[0mfiles\u001b[0m\u001b[0;34m)\u001b[0m\u001b[0;34m:\u001b[0m\u001b[0;34m\u001b[0m\u001b[0;34m\u001b[0m\u001b[0m\n\u001b[0;32m----> 9\u001b[0;31m             \u001b[0mdata_dict\u001b[0m \u001b[0;34m=\u001b[0m \u001b[0mmat73\u001b[0m\u001b[0;34m.\u001b[0m\u001b[0mloadmat\u001b[0m\u001b[0;34m(\u001b[0m\u001b[0mdir\u001b[0m \u001b[0;34m+\u001b[0m \u001b[0mfile\u001b[0m\u001b[0;34m)\u001b[0m\u001b[0;34m\u001b[0m\u001b[0;34m\u001b[0m\u001b[0m\n\u001b[0m\u001b[1;32m     10\u001b[0m             \u001b[0mself\u001b[0m\u001b[0;34m.\u001b[0m\u001b[0mdata_struct\u001b[0m\u001b[0;34m.\u001b[0m\u001b[0mappend\u001b[0m\u001b[0;34m(\u001b[0m\u001b[0;34m[\u001b[0m\u001b[0mnp\u001b[0m\u001b[0;34m.\u001b[0m\u001b[0mfloat32\u001b[0m\u001b[0;34m(\u001b[0m\u001b[0mdata_dict\u001b[0m\u001b[0;34m[\u001b[0m\u001b[0;34m'cjdata'\u001b[0m\u001b[0;34m]\u001b[0m\u001b[0;34m[\u001b[0m\u001b[0;34m'image'\u001b[0m\u001b[0;34m]\u001b[0m\u001b[0;34m)\u001b[0m\u001b[0;34m,\u001b[0m \u001b[0mint\u001b[0m\u001b[0;34m(\u001b[0m\u001b[0mdata_dict\u001b[0m\u001b[0;34m[\u001b[0m\u001b[0;34m'cjdata'\u001b[0m\u001b[0;34m]\u001b[0m\u001b[0;34m[\u001b[0m\u001b[0;34m'label'\u001b[0m\u001b[0;34m]\u001b[0m\u001b[0;34m)\u001b[0m\u001b[0;34m-\u001b[0m\u001b[0;36m1\u001b[0m\u001b[0;34m]\u001b[0m\u001b[0;34m)\u001b[0m\u001b[0;34m\u001b[0m\u001b[0;34m\u001b[0m\u001b[0m\n\u001b[1;32m     11\u001b[0m \u001b[0;34m\u001b[0m\u001b[0m\n",
            "\u001b[0;32m/usr/local/lib/python3.6/dist-packages/mat73/__init__.py\u001b[0m in \u001b[0;36mloadmat\u001b[0;34m(filename, verbose)\u001b[0m\n\u001b[1;32m    112\u001b[0m     \u001b[0;32mtry\u001b[0m\u001b[0;34m:\u001b[0m\u001b[0;34m\u001b[0m\u001b[0;34m\u001b[0m\u001b[0m\n\u001b[1;32m    113\u001b[0m         \u001b[0;32mwith\u001b[0m \u001b[0mh5py\u001b[0m\u001b[0;34m.\u001b[0m\u001b[0mFile\u001b[0m\u001b[0;34m(\u001b[0m\u001b[0mfilename\u001b[0m\u001b[0;34m,\u001b[0m \u001b[0;34m'r'\u001b[0m\u001b[0;34m)\u001b[0m \u001b[0;32mas\u001b[0m \u001b[0mhdf5\u001b[0m\u001b[0;34m:\u001b[0m\u001b[0;34m\u001b[0m\u001b[0;34m\u001b[0m\u001b[0m\n\u001b[0;32m--> 114\u001b[0;31m             \u001b[0mdictionary\u001b[0m \u001b[0;34m=\u001b[0m \u001b[0mdecoder\u001b[0m\u001b[0;34m.\u001b[0m\u001b[0mmat2dict\u001b[0m\u001b[0;34m(\u001b[0m\u001b[0mhdf5\u001b[0m\u001b[0;34m)\u001b[0m\u001b[0;34m\u001b[0m\u001b[0;34m\u001b[0m\u001b[0m\n\u001b[0m\u001b[1;32m    115\u001b[0m         \u001b[0;32mreturn\u001b[0m \u001b[0mdictionary\u001b[0m\u001b[0;34m\u001b[0m\u001b[0;34m\u001b[0m\u001b[0m\n\u001b[1;32m    116\u001b[0m     \u001b[0;32mexcept\u001b[0m \u001b[0mOSError\u001b[0m\u001b[0;34m:\u001b[0m\u001b[0;34m\u001b[0m\u001b[0;34m\u001b[0m\u001b[0m\n",
            "\u001b[0;32m/usr/local/lib/python3.6/dist-packages/mat73/__init__.py\u001b[0m in \u001b[0;36mmat2dict\u001b[0;34m(self, hdf5)\u001b[0m\n\u001b[1;32m     26\u001b[0m             \u001b[0mext\u001b[0m \u001b[0;34m=\u001b[0m \u001b[0mos\u001b[0m\u001b[0;34m.\u001b[0m\u001b[0mpath\u001b[0m\u001b[0;34m.\u001b[0m\u001b[0msplitext\u001b[0m\u001b[0;34m(\u001b[0m\u001b[0mhdf5\u001b[0m\u001b[0;34m.\u001b[0m\u001b[0mfilename\u001b[0m\u001b[0;34m)\u001b[0m\u001b[0;34m[\u001b[0m\u001b[0;36m1\u001b[0m\u001b[0;34m]\u001b[0m\u001b[0;34m\u001b[0m\u001b[0;34m\u001b[0m\u001b[0m\n\u001b[1;32m     27\u001b[0m             \u001b[0;32mif\u001b[0m \u001b[0mext\u001b[0m\u001b[0;34m==\u001b[0m\u001b[0;34m'.mat'\u001b[0m\u001b[0;34m:\u001b[0m\u001b[0;34m\u001b[0m\u001b[0;34m\u001b[0m\u001b[0m\n\u001b[0;32m---> 28\u001b[0;31m                 \u001b[0md\u001b[0m\u001b[0;34m[\u001b[0m\u001b[0mvar\u001b[0m\u001b[0;34m]\u001b[0m \u001b[0;34m=\u001b[0m \u001b[0mself\u001b[0m\u001b[0;34m.\u001b[0m\u001b[0munpack_mat\u001b[0m\u001b[0;34m(\u001b[0m\u001b[0mhdf5\u001b[0m\u001b[0;34m[\u001b[0m\u001b[0mvar\u001b[0m\u001b[0;34m]\u001b[0m\u001b[0;34m)\u001b[0m\u001b[0;34m\u001b[0m\u001b[0;34m\u001b[0m\u001b[0m\n\u001b[0m\u001b[1;32m     29\u001b[0m             \u001b[0;32melif\u001b[0m \u001b[0mext\u001b[0m\u001b[0;34m==\u001b[0m\u001b[0;34m'.h5'\u001b[0m \u001b[0;32mor\u001b[0m \u001b[0mext\u001b[0m\u001b[0;34m==\u001b[0m\u001b[0;34m'.hdf5'\u001b[0m\u001b[0;34m:\u001b[0m\u001b[0;34m\u001b[0m\u001b[0;34m\u001b[0m\u001b[0m\n\u001b[1;32m     30\u001b[0m                 \u001b[0merr\u001b[0m \u001b[0;34m=\u001b[0m \u001b[0;34m'Can only load .mat. Please use package hdfdict instead'\u001b[0m\u001b[0;31m\\\u001b[0m\u001b[0;34m\u001b[0m\u001b[0;34m\u001b[0m\u001b[0m\n",
            "\u001b[0;32m/usr/local/lib/python3.6/dist-packages/mat73/__init__.py\u001b[0m in \u001b[0;36munpack_mat\u001b[0;34m(self, hdf5, depth)\u001b[0m\n\u001b[1;32m     50\u001b[0m                 \u001b[0melem\u001b[0m   \u001b[0;34m=\u001b[0m \u001b[0mhdf5\u001b[0m\u001b[0;34m[\u001b[0m\u001b[0mkey\u001b[0m\u001b[0;34m]\u001b[0m\u001b[0;34m\u001b[0m\u001b[0;34m\u001b[0m\u001b[0m\n\u001b[1;32m     51\u001b[0m                 \u001b[0mself\u001b[0m\u001b[0;34m.\u001b[0m\u001b[0md\u001b[0m\u001b[0;34m[\u001b[0m\u001b[0mkey\u001b[0m\u001b[0;34m]\u001b[0m \u001b[0;34m=\u001b[0m \u001b[0mhdf5\u001b[0m\u001b[0;34m\u001b[0m\u001b[0;34m\u001b[0m\u001b[0m\n\u001b[0;32m---> 52\u001b[0;31m                 \u001b[0md\u001b[0m\u001b[0;34m[\u001b[0m\u001b[0mkey\u001b[0m\u001b[0;34m]\u001b[0m \u001b[0;34m=\u001b[0m \u001b[0mself\u001b[0m\u001b[0;34m.\u001b[0m\u001b[0munpack_mat\u001b[0m\u001b[0;34m(\u001b[0m\u001b[0melem\u001b[0m\u001b[0;34m,\u001b[0m \u001b[0mdepth\u001b[0m\u001b[0;34m=\u001b[0m\u001b[0mdepth\u001b[0m\u001b[0;34m+\u001b[0m\u001b[0;36m1\u001b[0m\u001b[0;34m)\u001b[0m\u001b[0;34m\u001b[0m\u001b[0;34m\u001b[0m\u001b[0m\n\u001b[0m\u001b[1;32m     53\u001b[0m             \u001b[0;32mreturn\u001b[0m \u001b[0md\u001b[0m\u001b[0;34m\u001b[0m\u001b[0;34m\u001b[0m\u001b[0m\n\u001b[1;32m     54\u001b[0m         \u001b[0;32melif\u001b[0m \u001b[0misinstance\u001b[0m\u001b[0;34m(\u001b[0m\u001b[0mhdf5\u001b[0m\u001b[0;34m,\u001b[0m \u001b[0mh5py\u001b[0m\u001b[0;34m.\u001b[0m\u001b[0m_hl\u001b[0m\u001b[0;34m.\u001b[0m\u001b[0mdataset\u001b[0m\u001b[0;34m.\u001b[0m\u001b[0mDataset\u001b[0m\u001b[0;34m)\u001b[0m\u001b[0;34m:\u001b[0m\u001b[0;34m\u001b[0m\u001b[0;34m\u001b[0m\u001b[0m\n",
            "\u001b[0;32m/usr/local/lib/python3.6/dist-packages/mat73/__init__.py\u001b[0m in \u001b[0;36munpack_mat\u001b[0;34m(self, hdf5, depth)\u001b[0m\n\u001b[1;32m     54\u001b[0m         \u001b[0;32melif\u001b[0m \u001b[0misinstance\u001b[0m\u001b[0;34m(\u001b[0m\u001b[0mhdf5\u001b[0m\u001b[0;34m,\u001b[0m \u001b[0mh5py\u001b[0m\u001b[0;34m.\u001b[0m\u001b[0m_hl\u001b[0m\u001b[0;34m.\u001b[0m\u001b[0mdataset\u001b[0m\u001b[0;34m.\u001b[0m\u001b[0mDataset\u001b[0m\u001b[0;34m)\u001b[0m\u001b[0;34m:\u001b[0m\u001b[0;34m\u001b[0m\u001b[0;34m\u001b[0m\u001b[0m\n\u001b[1;32m     55\u001b[0m \u001b[0;34m\u001b[0m\u001b[0m\n\u001b[0;32m---> 56\u001b[0;31m             \u001b[0;32mreturn\u001b[0m \u001b[0mself\u001b[0m\u001b[0;34m.\u001b[0m\u001b[0mconvert_mat\u001b[0m\u001b[0;34m(\u001b[0m\u001b[0mhdf5\u001b[0m\u001b[0;34m)\u001b[0m\u001b[0;34m\u001b[0m\u001b[0;34m\u001b[0m\u001b[0m\n\u001b[0m\u001b[1;32m     57\u001b[0m \u001b[0;34m\u001b[0m\u001b[0m\n\u001b[1;32m     58\u001b[0m     \u001b[0;32mdef\u001b[0m \u001b[0mconvert_mat\u001b[0m\u001b[0;34m(\u001b[0m\u001b[0mself\u001b[0m\u001b[0;34m,\u001b[0m \u001b[0mdataset\u001b[0m\u001b[0;34m)\u001b[0m\u001b[0;34m:\u001b[0m\u001b[0;34m\u001b[0m\u001b[0;34m\u001b[0m\u001b[0m\n",
            "\u001b[0;32m/usr/local/lib/python3.6/dist-packages/mat73/__init__.py\u001b[0m in \u001b[0;36mconvert_mat\u001b[0;34m(self, dataset)\u001b[0m\n\u001b[1;32m     93\u001b[0m         elif mtype in ('double', 'single', 'int8', 'int16', 'int32', 'int64', \n\u001b[1;32m     94\u001b[0m                        'uint8', 'uint16', 'uint32', 'uint64'): \n\u001b[0;32m---> 95\u001b[0;31m             \u001b[0marr\u001b[0m \u001b[0;34m=\u001b[0m \u001b[0mnp\u001b[0m\u001b[0;34m.\u001b[0m\u001b[0marray\u001b[0m\u001b[0;34m(\u001b[0m\u001b[0mdataset\u001b[0m\u001b[0;34m,\u001b[0m \u001b[0mdtype\u001b[0m\u001b[0;34m=\u001b[0m\u001b[0mdataset\u001b[0m\u001b[0;34m.\u001b[0m\u001b[0mdtype\u001b[0m\u001b[0;34m)\u001b[0m\u001b[0;34m\u001b[0m\u001b[0;34m\u001b[0m\u001b[0m\n\u001b[0m\u001b[1;32m     96\u001b[0m             \u001b[0;31m# if size is 1, we usually have a single value, not an array\u001b[0m\u001b[0;34m\u001b[0m\u001b[0;34m\u001b[0m\u001b[0;34m\u001b[0m\u001b[0m\n\u001b[1;32m     97\u001b[0m             \u001b[0;32mif\u001b[0m \u001b[0marr\u001b[0m\u001b[0;34m.\u001b[0m\u001b[0msize\u001b[0m\u001b[0;34m==\u001b[0m\u001b[0;36m1\u001b[0m\u001b[0;34m:\u001b[0m \u001b[0marr\u001b[0m\u001b[0;34m=\u001b[0m\u001b[0marr\u001b[0m\u001b[0;34m.\u001b[0m\u001b[0msqueeze\u001b[0m\u001b[0;34m(\u001b[0m\u001b[0;34m)\u001b[0m\u001b[0;34m\u001b[0m\u001b[0;34m\u001b[0m\u001b[0m\n",
            "\u001b[0;32mh5py/_objects.pyx\u001b[0m in \u001b[0;36mh5py._objects.with_phil.wrapper\u001b[0;34m()\u001b[0m\n",
            "\u001b[0;32mh5py/_objects.pyx\u001b[0m in \u001b[0;36mh5py._objects.with_phil.wrapper\u001b[0;34m()\u001b[0m\n",
            "\u001b[0;32m/usr/local/lib/python3.6/dist-packages/h5py/_hl/dataset.py\u001b[0m in \u001b[0;36m__array__\u001b[0;34m(self, dtype)\u001b[0m\n\u001b[1;32m    694\u001b[0m             \u001b[0;32mreturn\u001b[0m \u001b[0marr\u001b[0m\u001b[0;34m\u001b[0m\u001b[0;34m\u001b[0m\u001b[0m\n\u001b[1;32m    695\u001b[0m \u001b[0;34m\u001b[0m\u001b[0m\n\u001b[0;32m--> 696\u001b[0;31m         \u001b[0mself\u001b[0m\u001b[0;34m.\u001b[0m\u001b[0mread_direct\u001b[0m\u001b[0;34m(\u001b[0m\u001b[0marr\u001b[0m\u001b[0;34m)\u001b[0m\u001b[0;34m\u001b[0m\u001b[0;34m\u001b[0m\u001b[0m\n\u001b[0m\u001b[1;32m    697\u001b[0m         \u001b[0;32mreturn\u001b[0m \u001b[0marr\u001b[0m\u001b[0;34m\u001b[0m\u001b[0;34m\u001b[0m\u001b[0m\n\u001b[1;32m    698\u001b[0m \u001b[0;34m\u001b[0m\u001b[0m\n",
            "\u001b[0;32m/usr/local/lib/python3.6/dist-packages/h5py/_hl/dataset.py\u001b[0m in \u001b[0;36mread_direct\u001b[0;34m(self, dest, source_sel, dest_sel)\u001b[0m\n\u001b[1;32m    655\u001b[0m \u001b[0;34m\u001b[0m\u001b[0m\n\u001b[1;32m    656\u001b[0m             \u001b[0;32mfor\u001b[0m \u001b[0mmspace\u001b[0m \u001b[0;32min\u001b[0m \u001b[0mdest_sel\u001b[0m\u001b[0;34m.\u001b[0m\u001b[0mbroadcast\u001b[0m\u001b[0;34m(\u001b[0m\u001b[0msource_sel\u001b[0m\u001b[0;34m.\u001b[0m\u001b[0mmshape\u001b[0m\u001b[0;34m)\u001b[0m\u001b[0;34m:\u001b[0m\u001b[0;34m\u001b[0m\u001b[0;34m\u001b[0m\u001b[0m\n\u001b[0;32m--> 657\u001b[0;31m                 \u001b[0mself\u001b[0m\u001b[0;34m.\u001b[0m\u001b[0mid\u001b[0m\u001b[0;34m.\u001b[0m\u001b[0mread\u001b[0m\u001b[0;34m(\u001b[0m\u001b[0mmspace\u001b[0m\u001b[0;34m,\u001b[0m \u001b[0mfspace\u001b[0m\u001b[0;34m,\u001b[0m \u001b[0mdest\u001b[0m\u001b[0;34m,\u001b[0m \u001b[0mdxpl\u001b[0m\u001b[0;34m=\u001b[0m\u001b[0mself\u001b[0m\u001b[0;34m.\u001b[0m\u001b[0m_dxpl\u001b[0m\u001b[0;34m)\u001b[0m\u001b[0;34m\u001b[0m\u001b[0;34m\u001b[0m\u001b[0m\n\u001b[0m\u001b[1;32m    658\u001b[0m \u001b[0;34m\u001b[0m\u001b[0m\n\u001b[1;32m    659\u001b[0m     \u001b[0;32mdef\u001b[0m \u001b[0mwrite_direct\u001b[0m\u001b[0;34m(\u001b[0m\u001b[0mself\u001b[0m\u001b[0;34m,\u001b[0m \u001b[0msource\u001b[0m\u001b[0;34m,\u001b[0m \u001b[0msource_sel\u001b[0m\u001b[0;34m=\u001b[0m\u001b[0;32mNone\u001b[0m\u001b[0;34m,\u001b[0m \u001b[0mdest_sel\u001b[0m\u001b[0;34m=\u001b[0m\u001b[0;32mNone\u001b[0m\u001b[0;34m)\u001b[0m\u001b[0;34m:\u001b[0m\u001b[0;34m\u001b[0m\u001b[0;34m\u001b[0m\u001b[0m\n",
            "\u001b[0;31mKeyboardInterrupt\u001b[0m: "
          ]
        }
      ]
    },
    {
      "cell_type": "code",
      "metadata": {
        "id": "3uxiY0NcioSA",
        "colab_type": "code",
        "outputId": "ca1629a0-0449-4eba-c01e-23d4ff79f137",
        "colab": {
          "base_uri": "https://localhost:8080/",
          "height": 34
        }
      },
      "source": [
        "dataset = BrainTumorDataset('/content/dataset/', transform=data_transform)\n",
        "\n",
        "batch_size = 32\n",
        "test_size = 0\n",
        "valid_size = 0.3\n",
        "shuffle_dataset = True\n",
        "seed= 69\n",
        "\n",
        "dataset_size = len(dataset)\n",
        "train_split = int(np.floor(dataset_size - dataset_size * (test_size + valid_size) ))\n",
        "test_split = int(np.floor(train_split + dataset_size * test_size ))\n",
        "\n",
        "indices = list(range(dataset_size))\n",
        "if shuffle_dataset :\n",
        "    np.random.seed(seed)\n",
        "    np.random.shuffle(indices)\n",
        "\n",
        "train_indices, test_indices, valid_indices = indices[:train_split], indices[train_split: test_split], indices[test_split:]\n",
        "\n",
        "train_sampler = SubsetRandomSampler(train_indices)\n",
        "test_sampler = SubsetRandomSampler(test_indices)\n",
        "valid_sampler = SubsetRandomSampler(valid_indices)\n",
        "\n",
        "train_loader = DataLoader(dataset, batch_size=batch_size, sampler=train_sampler)\n",
        "test_loader = DataLoader(dataset, batch_size=batch_size, sampler=test_sampler)\n",
        "valid_loader = DataLoader(dataset, batch_size=batch_size, sampler=valid_sampler)"
      ],
      "execution_count": 0,
      "outputs": [
        {
          "output_type": "stream",
          "text": [
            "100%|██████████| 3064/3064 [00:23<00:00, 131.66it/s]\n"
          ],
          "name": "stderr"
        }
      ]
    },
    {
      "cell_type": "code",
      "metadata": {
        "id": "80BpPb3JHKZu",
        "colab_type": "code",
        "colab": {}
      },
      "source": [
        "# mean = 0.\n",
        "# std = 0.\n",
        "# nb_samples = 0.\n",
        "# for data in train_loader:\n",
        "#     batch_samples = data.size(0)\n",
        "#     data = data.view(batch_samples, data.size(1), -1)\n",
        "#     mean += data.mean(2).sum(0)\n",
        "#     std += data.std(2).sum(0)\n",
        "#     nb_samples += batch_samples\n",
        "\n",
        "# mean /= nb_samples\n",
        "# std /= nb_samples"
      ],
      "execution_count": 0,
      "outputs": []
    },
    {
      "cell_type": "code",
      "metadata": {
        "id": "L9jEYjNVsA_D",
        "colab_type": "code",
        "outputId": "09cfb2bf-1063-4d2f-b4fb-5b32f369e091",
        "colab": {
          "base_uri": "https://localhost:8080/",
          "height": 511
        }
      },
      "source": [
        "images, labels = next(iter(train_loader))\n",
        "fig= plt.figure(figsize=(7, 7))\n",
        "print(images.shape)\n",
        "print(labels[3])\n",
        "print(labels)\n",
        "plt.imshow(images[0][0], cmap='gray')\n",
        "plt.title(int(labels[0]))\n",
        "plt.show()"
      ],
      "execution_count": 0,
      "outputs": [
        {
          "output_type": "stream",
          "text": [
            "torch.Size([32, 1, 512, 512])\n",
            "tensor(2)\n",
            "tensor([2, 1, 1, 2, 2, 1, 2, 1, 0, 0, 2, 2, 2, 0, 1, 1, 2, 1, 2, 2, 0, 2, 0, 2,\n",
            "        0, 1, 1, 0, 2, 1, 1, 0])\n"
          ],
          "name": "stdout"
        },
        {
          "output_type": "display_data",
          "data": {
            "image/png": "[encoded data removed]",
            "text/plain": [
              "<Figure size 504x504 with 1 Axes>"
            ]
          },
          "metadata": {
            "tags": []
          }
        }
      ]
    },
    {
      "cell_type": "code",
      "metadata": {
        "id": "C1adYLSbsA_F",
        "colab_type": "code",
        "outputId": "6f621635-5463-41df-a01d-43472899cfb0",
        "colab": {
          "base_uri": "https://localhost:8080/",
          "height": 67
        }
      },
      "source": [
        "###############################################################\n",
        "print(len(train_indices))\n",
        "print(len(test_indices))\n",
        "print(len(valid_indices))"
      ],
      "execution_count": 0,
      "outputs": [
        {
          "output_type": "stream",
          "text": [
            "2144\n",
            "0\n",
            "920\n"
          ],
          "name": "stdout"
        }
      ]
    },
    {
      "cell_type": "code",
      "metadata": {
        "id": "R9-HpuHhsA_I",
        "colab_type": "code",
        "colab": {}
      },
      "source": [
        "##################### Network#################"
      ],
      "execution_count": 0,
      "outputs": []
    },
    {
      "cell_type": "code",
      "metadata": {
        "id": "Yb-NfMIt3tJA",
        "colab_type": "code",
        "colab": {}
      },
      "source": [
        "import torch.nn as nn\n",
        "import torch.optim as optim\n",
        "from torch.optim import lr_scheduler\n",
        "import copy\n",
        "import time"
      ],
      "execution_count": 0,
      "outputs": []
    },
    {
      "cell_type": "code",
      "metadata": {
        "id": "eN3XJCe73_ZK",
        "colab_type": "code",
        "outputId": "10002195-9d17-4e98-ae71-60e9b9296b61",
        "colab": {
          "base_uri": "https://localhost:8080/",
          "height": 34
        }
      },
      "source": [
        "device = 'cuda:0' if torch.cuda.is_available() else 'cpu'\n",
        "device"
      ],
      "execution_count": 0,
      "outputs": [
        {
          "output_type": "execute_result",
          "data": {
            "text/plain": [
              "'cuda:0'"
            ]
          },
          "metadata": {
            "tags": []
          },
          "execution_count": 11
        }
      ]
    },
    {
      "cell_type": "code",
      "metadata": {
        "id": "Td9K60XxKrRL",
        "colab_type": "code",
        "outputId": "d55044e4-ee48-41ab-abb3-cc6872b2b0f0",
        "colab": {
          "base_uri": "https://localhost:8080/",
          "height": 34
        }
      },
      "source": [
        "dataset_sizes = {'train': len(train_indices), 'val': len(valid_indices)}\n",
        "dataset_sizes"
      ],
      "execution_count": 0,
      "outputs": [
        {
          "output_type": "execute_result",
          "data": {
            "text/plain": [
              "{'train': 2144, 'val': 920}"
            ]
          },
          "metadata": {
            "tags": []
          },
          "execution_count": 12
        }
      ]
    },
    {
      "cell_type": "code",
      "metadata": {
        "id": "8JfwX16OsA_U",
        "colab_type": "code",
        "colab": {}
      },
      "source": [
        "def train_model(model, criterion, optimizer, scheduler, num_epochs=25):\n",
        "    since = time.time()\n",
        "\n",
        "    best_model_wts = copy.deepcopy(model.state_dict())\n",
        "    best_acc = 0.0\n",
        "\n",
        "    for epoch in range(num_epochs):\n",
        "        print('Epoch {}/{}'.format(epoch, num_epochs - 1))\n",
        "        print('-' * 10)\n",
        "\n",
        "        # Each epoch has a training and validation phase\n",
        "        for phase in ['train', 'val']:\n",
        "            if phase == 'train':\n",
        "                model.train()  # Set model to training mode\n",
        "                dataloader = train_loader\n",
        "            else:\n",
        "                model.eval()   # Set model to evaluate mode\n",
        "                dataloader = valid_loader\n",
        "\n",
        "            running_loss = 0.0\n",
        "            running_corrects = 0\n",
        "\n",
        "\n",
        "            # Iterate over data.\n",
        "            for inputs, labels in dataloader:\n",
        "                inputs = inputs.to(device)\n",
        "                labels = labels.to(device)\n",
        "\n",
        "                # zero the parameter gradients\n",
        "                optimizer.zero_grad()\n",
        "\n",
        "                # forward\n",
        "                # track history if only in train\n",
        "                with torch.set_grad_enabled(phase == 'train'):\n",
        "                    outputs = model(inputs)\n",
        "                    \n",
        "                    _, preds = torch.max(outputs, 1)\n",
        "                    loss = criterion(outputs, labels)\n",
        "\n",
        "                    # backward + optimize only if in training phase\n",
        "                    if phase == 'train':\n",
        "                        loss.backward()\n",
        "                        optimizer.step()\n",
        "\n",
        "                # statistics\n",
        "                running_loss += loss.item() * inputs.size(0)\n",
        "                running_corrects += torch.sum(preds == labels.data)\n",
        "            if phase == 'train':\n",
        "                scheduler.step()\n",
        "\n",
        "            epoch_loss = running_loss / dataset_sizes[phase]\n",
        "            epoch_acc = running_corrects.double() / dataset_sizes[phase]\n",
        "\n",
        "            print('{} Loss: {:.4f} Acc: {:.4f}'.format(\n",
        "                phase, epoch_loss, epoch_acc))\n",
        "\n",
        "            # deep copy the model\n",
        "            if phase == 'val' and epoch_acc > best_acc:\n",
        "                best_acc = epoch_acc\n",
        "                best_model_wts = copy.deepcopy(model.state_dict())\n",
        "\n",
        "        print()\n",
        "\n",
        "    time_elapsed = time.time() - since\n",
        "    print('Training complete in {:.0f}m {:.0f}s'.format(\n",
        "        time_elapsed // 60, time_elapsed % 60))\n",
        "    print('Best val Acc: {:4f}'.format(best_acc))\n",
        "\n",
        "    # load best model weights\n",
        "    model.load_state_dict(best_model_wts)\n",
        "    return model"
      ],
      "execution_count": 0,
      "outputs": []
    },
    {
      "cell_type": "code",
      "metadata": {
        "id": "-dwxZzcu33_M",
        "colab_type": "code",
        "colab": {}
      },
      "source": [
        "# def visualize_model(model, num_images=6):\n",
        "#     was_training = model.training\n",
        "#     model.eval()\n",
        "#     images_so_far = 0\n",
        "#     fig = plt.figure()\n",
        "\n",
        "#     with torch.no_grad():\n",
        "#         for i, (inputs, labels) in enumerate(valid_loader):\n",
        "#             inputs = inputs.to(device)\n",
        "#             labels = labels.to(device)\n",
        "\n",
        "#             outputs = model(inputs)\n",
        "#             _, preds = torch.max(outputs, 1)\n",
        "\n",
        "#             for j in range(inputs.size()[0]):\n",
        "#                 images_so_far += 1\n",
        "#                 ax = plt.subplot(num_images//2, 2, images_so_far)\n",
        "#                 ax.axis('off')\n",
        "#                 ax.set_title('predicted: {}'.format(class_names[preds[j]]))\n",
        "#                 imshow(inputs.cpu().data[j])\n",
        "\n",
        "#                 if images_so_far == num_images:\n",
        "#                     model.train(mode=was_training)\n",
        "#                     return\n",
        "#         model.train(mode=was_training)"
      ],
      "execution_count": 0,
      "outputs": []
    },
    {
      "cell_type": "code",
      "metadata": {
        "id": "2NJUzi9o4sCE",
        "colab_type": "code",
        "colab": {}
      },
      "source": [
        "network = models.vgg11_bn(pretrained=False)\n",
        "num_features = network.classifier[6].in_features\n",
        "###########################################  {{here!!}}\n",
        "network.classifier[6] = nn.Linear(num_features, 3)\n",
        "###########################################  {{here!!}}\n",
        "network.features[0] = nn.Conv2d(1, 64, kernel_size=(3, 3), stride=(1, 1), padding=(1, 1))\n",
        "network = network.to(device)"
      ],
      "execution_count": 0,
      "outputs": []
    },
    {
      "cell_type": "code",
      "metadata": {
        "id": "ZNrbBWPsRV-H",
        "colab_type": "code",
        "outputId": "e138e587-4033-465c-c89a-22cf59e0f8c8",
        "colab": {
          "base_uri": "https://localhost:8080/",
          "height": 1000
        }
      },
      "source": [
        "resnet50_model = models.resnet50(pretrained=True)\n",
        "resnet50_model.conv1 = nn.Conv2d(1, 64, kernel_size=(7, 7), stride=(2, 2), padding=(3, 3), bias=False)\n",
        "resnet50_model.fc = nn.Linear(in_features=2048, out_features=3, bias=True)\n",
        "resnet50_model.to(device)"
      ],
      "execution_count": 0,
      "outputs": [
        {
          "output_type": "execute_result",
          "data": {
            "text/plain": [
              "ResNet(\n",
              "  (conv1): Conv2d(1, 64, kernel_size=(7, 7), stride=(2, 2), padding=(3, 3), bias=False)\n",
              "  (bn1): BatchNorm2d(64, eps=1e-05, momentum=0.1, affine=True, track_running_stats=True)\n",
              "  (relu): ReLU(inplace=True)\n",
              "  (maxpool): MaxPool2d(kernel_size=3, stride=2, padding=1, dilation=1, ceil_mode=False)\n",
              "  (layer1): Sequential(\n",
              "    (0): Bottleneck(\n",
              "      (conv1): Conv2d(64, 64, kernel_size=(1, 1), stride=(1, 1), bias=False)\n",
              "      (bn1): BatchNorm2d(64, eps=1e-05, momentum=0.1, affine=True, track_running_stats=True)\n",
              "      (conv2): Conv2d(64, 64, kernel_size=(3, 3), stride=(1, 1), padding=(1, 1), bias=False)\n",
              "      (bn2): BatchNorm2d(64, eps=1e-05, momentum=0.1, affine=True, track_running_stats=True)\n",
              "      (conv3): Conv2d(64, 256, kernel_size=(1, 1), stride=(1, 1), bias=False)\n",
              "      (bn3): BatchNorm2d(256, eps=1e-05, momentum=0.1, affine=True, track_running_stats=True)\n",
              "      (relu): ReLU(inplace=True)\n",
              "      (downsample): Sequential(\n",
              "        (0): Conv2d(64, 256, kernel_size=(1, 1), stride=(1, 1), bias=False)\n",
              "        (1): BatchNorm2d(256, eps=1e-05, momentum=0.1, affine=True, track_running_stats=True)\n",
              "      )\n",
              "    )\n",
              "    (1): Bottleneck(\n",
              "      (conv1): Conv2d(256, 64, kernel_size=(1, 1), stride=(1, 1), bias=False)\n",
              "      (bn1): BatchNorm2d(64, eps=1e-05, momentum=0.1, affine=True, track_running_stats=True)\n",
              "      (conv2): Conv2d(64, 64, kernel_size=(3, 3), stride=(1, 1), padding=(1, 1), bias=False)\n",
              "      (bn2): BatchNorm2d(64, eps=1e-05, momentum=0.1, affine=True, track_running_stats=True)\n",
              "      (conv3): Conv2d(64, 256, kernel_size=(1, 1), stride=(1, 1), bias=False)\n",
              "      (bn3): BatchNorm2d(256, eps=1e-05, momentum=0.1, affine=True, track_running_stats=True)\n",
              "      (relu): ReLU(inplace=True)\n",
              "    )\n",
              "    (2): Bottleneck(\n",
              "      (conv1): Conv2d(256, 64, kernel_size=(1, 1), stride=(1, 1), bias=False)\n",
              "      (bn1): BatchNorm2d(64, eps=1e-05, momentum=0.1, affine=True, track_running_stats=True)\n",
              "      (conv2): Conv2d(64, 64, kernel_size=(3, 3), stride=(1, 1), padding=(1, 1), bias=False)\n",
              "      (bn2): BatchNorm2d(64, eps=1e-05, momentum=0.1, affine=True, track_running_stats=True)\n",
              "      (conv3): Conv2d(64, 256, kernel_size=(1, 1), stride=(1, 1), bias=False)\n",
              "      (bn3): BatchNorm2d(256, eps=1e-05, momentum=0.1, affine=True, track_running_stats=True)\n",
              "      (relu): ReLU(inplace=True)\n",
              "    )\n",
              "  )\n",
              "  (layer2): Sequential(\n",
              "    (0): Bottleneck(\n",
              "      (conv1): Conv2d(256, 128, kernel_size=(1, 1), stride=(1, 1), bias=False)\n",
              "      (bn1): BatchNorm2d(128, eps=1e-05, momentum=0.1, affine=True, track_running_stats=True)\n",
              "      (conv2): Conv2d(128, 128, kernel_size=(3, 3), stride=(2, 2), padding=(1, 1), bias=False)\n",
              "      (bn2): BatchNorm2d(128, eps=1e-05, momentum=0.1, affine=True, track_running_stats=True)\n",
              "      (conv3): Conv2d(128, 512, kernel_size=(1, 1), stride=(1, 1), bias=False)\n",
              "      (bn3): BatchNorm2d(512, eps=1e-05, momentum=0.1, affine=True, track_running_stats=True)\n",
              "      (relu): ReLU(inplace=True)\n",
              "      (downsample): Sequential(\n",
              "        (0): Conv2d(256, 512, kernel_size=(1, 1), stride=(2, 2), bias=False)\n",
              "        (1): BatchNorm2d(512, eps=1e-05, momentum=0.1, affine=True, track_running_stats=True)\n",
              "      )\n",
              "    )\n",
              "    (1): Bottleneck(\n",
              "      (conv1): Conv2d(512, 128, kernel_size=(1, 1), stride=(1, 1), bias=False)\n",
              "      (bn1): BatchNorm2d(128, eps=1e-05, momentum=0.1, affine=True, track_running_stats=True)\n",
              "      (conv2): Conv2d(128, 128, kernel_size=(3, 3), stride=(1, 1), padding=(1, 1), bias=False)\n",
              "      (bn2): BatchNorm2d(128, eps=1e-05, momentum=0.1, affine=True, track_running_stats=True)\n",
              "      (conv3): Conv2d(128, 512, kernel_size=(1, 1), stride=(1, 1), bias=False)\n",
              "      (bn3): BatchNorm2d(512, eps=1e-05, momentum=0.1, affine=True, track_running_stats=True)\n",
              "      (relu): ReLU(inplace=True)\n",
              "    )\n",
              "    (2): Bottleneck(\n",
              "      (conv1): Conv2d(512, 128, kernel_size=(1, 1), stride=(1, 1), bias=False)\n",
              "      (bn1): BatchNorm2d(128, eps=1e-05, momentum=0.1, affine=True, track_running_stats=True)\n",
              "      (conv2): Conv2d(128, 128, kernel_size=(3, 3), stride=(1, 1), padding=(1, 1), bias=False)\n",
              "      (bn2): BatchNorm2d(128, eps=1e-05, momentum=0.1, affine=True, track_running_stats=True)\n",
              "      (conv3): Conv2d(128, 512, kernel_size=(1, 1), stride=(1, 1), bias=False)\n",
              "      (bn3): BatchNorm2d(512, eps=1e-05, momentum=0.1, affine=True, track_running_stats=True)\n",
              "      (relu): ReLU(inplace=True)\n",
              "    )\n",
              "    (3): Bottleneck(\n",
              "      (conv1): Conv2d(512, 128, kernel_size=(1, 1), stride=(1, 1), bias=False)\n",
              "      (bn1): BatchNorm2d(128, eps=1e-05, momentum=0.1, affine=True, track_running_stats=True)\n",
              "      (conv2): Conv2d(128, 128, kernel_size=(3, 3), stride=(1, 1), padding=(1, 1), bias=False)\n",
              "      (bn2): BatchNorm2d(128, eps=1e-05, momentum=0.1, affine=True, track_running_stats=True)\n",
              "      (conv3): Conv2d(128, 512, kernel_size=(1, 1), stride=(1, 1), bias=False)\n",
              "      (bn3): BatchNorm2d(512, eps=1e-05, momentum=0.1, affine=True, track_running_stats=True)\n",
              "      (relu): ReLU(inplace=True)\n",
              "    )\n",
              "  )\n",
              "  (layer3): Sequential(\n",
              "    (0): Bottleneck(\n",
              "      (conv1): Conv2d(512, 256, kernel_size=(1, 1), stride=(1, 1), bias=False)\n",
              "      (bn1): BatchNorm2d(256, eps=1e-05, momentum=0.1, affine=True, track_running_stats=True)\n",
              "      (conv2): Conv2d(256, 256, kernel_size=(3, 3), stride=(2, 2), padding=(1, 1), bias=False)\n",
              "      (bn2): BatchNorm2d(256, eps=1e-05, momentum=0.1, affine=True, track_running_stats=True)\n",
              "      (conv3): Conv2d(256, 1024, kernel_size=(1, 1), stride=(1, 1), bias=False)\n",
              "      (bn3): BatchNorm2d(1024, eps=1e-05, momentum=0.1, affine=True, track_running_stats=True)\n",
              "      (relu): ReLU(inplace=True)\n",
              "      (downsample): Sequential(\n",
              "        (0): Conv2d(512, 1024, kernel_size=(1, 1), stride=(2, 2), bias=False)\n",
              "        (1): BatchNorm2d(1024, eps=1e-05, momentum=0.1, affine=True, track_running_stats=True)\n",
              "      )\n",
              "    )\n",
              "    (1): Bottleneck(\n",
              "      (conv1): Conv2d(1024, 256, kernel_size=(1, 1), stride=(1, 1), bias=False)\n",
              "      (bn1): BatchNorm2d(256, eps=1e-05, momentum=0.1, affine=True, track_running_stats=True)\n",
              "      (conv2): Conv2d(256, 256, kernel_size=(3, 3), stride=(1, 1), padding=(1, 1), bias=False)\n",
              "      (bn2): BatchNorm2d(256, eps=1e-05, momentum=0.1, affine=True, track_running_stats=True)\n",
              "      (conv3): Conv2d(256, 1024, kernel_size=(1, 1), stride=(1, 1), bias=False)\n",
              "      (bn3): BatchNorm2d(1024, eps=1e-05, momentum=0.1, affine=True, track_running_stats=True)\n",
              "      (relu): ReLU(inplace=True)\n",
              "    )\n",
              "    (2): Bottleneck(\n",
              "      (conv1): Conv2d(1024, 256, kernel_size=(1, 1), stride=(1, 1), bias=False)\n",
              "      (bn1): BatchNorm2d(256, eps=1e-05, momentum=0.1, affine=True, track_running_stats=True)\n",
              "      (conv2): Conv2d(256, 256, kernel_size=(3, 3), stride=(1, 1), padding=(1, 1), bias=False)\n",
              "      (bn2): BatchNorm2d(256, eps=1e-05, momentum=0.1, affine=True, track_running_stats=True)\n",
              "      (conv3): Conv2d(256, 1024, kernel_size=(1, 1), stride=(1, 1), bias=False)\n",
              "      (bn3): BatchNorm2d(1024, eps=1e-05, momentum=0.1, affine=True, track_running_stats=True)\n",
              "      (relu): ReLU(inplace=True)\n",
              "    )\n",
              "    (3): Bottleneck(\n",
              "      (conv1): Conv2d(1024, 256, kernel_size=(1, 1), stride=(1, 1), bias=False)\n",
              "      (bn1): BatchNorm2d(256, eps=1e-05, momentum=0.1, affine=True, track_running_stats=True)\n",
              "      (conv2): Conv2d(256, 256, kernel_size=(3, 3), stride=(1, 1), padding=(1, 1), bias=False)\n",
              "      (bn2): BatchNorm2d(256, eps=1e-05, momentum=0.1, affine=True, track_running_stats=True)\n",
              "      (conv3): Conv2d(256, 1024, kernel_size=(1, 1), stride=(1, 1), bias=False)\n",
              "      (bn3): BatchNorm2d(1024, eps=1e-05, momentum=0.1, affine=True, track_running_stats=True)\n",
              "      (relu): ReLU(inplace=True)\n",
              "    )\n",
              "    (4): Bottleneck(\n",
              "      (conv1): Conv2d(1024, 256, kernel_size=(1, 1), stride=(1, 1), bias=False)\n",
              "      (bn1): BatchNorm2d(256, eps=1e-05, momentum=0.1, affine=True, track_running_stats=True)\n",
              "      (conv2): Conv2d(256, 256, kernel_size=(3, 3), stride=(1, 1), padding=(1, 1), bias=False)\n",
              "      (bn2): BatchNorm2d(256, eps=1e-05, momentum=0.1, affine=True, track_running_stats=True)\n",
              "      (conv3): Conv2d(256, 1024, kernel_size=(1, 1), stride=(1, 1), bias=False)\n",
              "      (bn3): BatchNorm2d(1024, eps=1e-05, momentum=0.1, affine=True, track_running_stats=True)\n",
              "      (relu): ReLU(inplace=True)\n",
              "    )\n",
              "    (5): Bottleneck(\n",
              "      (conv1): Conv2d(1024, 256, kernel_size=(1, 1), stride=(1, 1), bias=False)\n",
              "      (bn1): BatchNorm2d(256, eps=1e-05, momentum=0.1, affine=True, track_running_stats=True)\n",
              "      (conv2): Conv2d(256, 256, kernel_size=(3, 3), stride=(1, 1), padding=(1, 1), bias=False)\n",
              "      (bn2): BatchNorm2d(256, eps=1e-05, momentum=0.1, affine=True, track_running_stats=True)\n",
              "      (conv3): Conv2d(256, 1024, kernel_size=(1, 1), stride=(1, 1), bias=False)\n",
              "      (bn3): BatchNorm2d(1024, eps=1e-05, momentum=0.1, affine=True, track_running_stats=True)\n",
              "      (relu): ReLU(inplace=True)\n",
              "    )\n",
              "  )\n",
              "  (layer4): Sequential(\n",
              "    (0): Bottleneck(\n",
              "      (conv1): Conv2d(1024, 512, kernel_size=(1, 1), stride=(1, 1), bias=False)\n",
              "      (bn1): BatchNorm2d(512, eps=1e-05, momentum=0.1, affine=True, track_running_stats=True)\n",
              "      (conv2): Conv2d(512, 512, kernel_size=(3, 3), stride=(2, 2), padding=(1, 1), bias=False)\n",
              "      (bn2): BatchNorm2d(512, eps=1e-05, momentum=0.1, affine=True, track_running_stats=True)\n",
              "      (conv3): Conv2d(512, 2048, kernel_size=(1, 1), stride=(1, 1), bias=False)\n",
              "      (bn3): BatchNorm2d(2048, eps=1e-05, momentum=0.1, affine=True, track_running_stats=True)\n",
              "      (relu): ReLU(inplace=True)\n",
              "      (downsample): Sequential(\n",
              "        (0): Conv2d(1024, 2048, kernel_size=(1, 1), stride=(2, 2), bias=False)\n",
              "        (1): BatchNorm2d(2048, eps=1e-05, momentum=0.1, affine=True, track_running_stats=True)\n",
              "      )\n",
              "    )\n",
              "    (1): Bottleneck(\n",
              "      (conv1): Conv2d(2048, 512, kernel_size=(1, 1), stride=(1, 1), bias=False)\n",
              "      (bn1): BatchNorm2d(512, eps=1e-05, momentum=0.1, affine=True, track_running_stats=True)\n",
              "      (conv2): Conv2d(512, 512, kernel_size=(3, 3), stride=(1, 1), padding=(1, 1), bias=False)\n",
              "      (bn2): BatchNorm2d(512, eps=1e-05, momentum=0.1, affine=True, track_running_stats=True)\n",
              "      (conv3): Conv2d(512, 2048, kernel_size=(1, 1), stride=(1, 1), bias=False)\n",
              "      (bn3): BatchNorm2d(2048, eps=1e-05, momentum=0.1, affine=True, track_running_stats=True)\n",
              "      (relu): ReLU(inplace=True)\n",
              "    )\n",
              "    (2): Bottleneck(\n",
              "      (conv1): Conv2d(2048, 512, kernel_size=(1, 1), stride=(1, 1), bias=False)\n",
              "      (bn1): BatchNorm2d(512, eps=1e-05, momentum=0.1, affine=True, track_running_stats=True)\n",
              "      (conv2): Conv2d(512, 512, kernel_size=(3, 3), stride=(1, 1), padding=(1, 1), bias=False)\n",
              "      (bn2): BatchNorm2d(512, eps=1e-05, momentum=0.1, affine=True, track_running_stats=True)\n",
              "      (conv3): Conv2d(512, 2048, kernel_size=(1, 1), stride=(1, 1), bias=False)\n",
              "      (bn3): BatchNorm2d(2048, eps=1e-05, momentum=0.1, affine=True, track_running_stats=True)\n",
              "      (relu): ReLU(inplace=True)\n",
              "    )\n",
              "  )\n",
              "  (avgpool): AdaptiveAvgPool2d(output_size=(1, 1))\n",
              "  (fc): Linear(in_features=2048, out_features=3, bias=True)\n",
              ")"
            ]
          },
          "metadata": {
            "tags": []
          },
          "execution_count": 14
        }
      ]
    },
    {
      "cell_type": "code",
      "metadata": {
        "id": "J0o8hFAzR-ju",
        "colab_type": "code",
        "outputId": "79997009-c894-4dea-ed08-8dd251e123e2",
        "colab": {
          "base_uri": "https://localhost:8080/",
          "height": 1000
        }
      },
      "source": [
        "from torchsummary import summary\n",
        "\n",
        "summary(resnet50_model, (1, 512, 512))"
      ],
      "execution_count": 0,
      "outputs": [
        {
          "output_type": "stream",
          "text": [
            "----------------------------------------------------------------\n",
            "        Layer (type)               Output Shape         Param #\n",
            "================================================================\n",
            "            Conv2d-1         [-1, 64, 256, 256]           3,136\n",
            "       BatchNorm2d-2         [-1, 64, 256, 256]             128\n",
            "              ReLU-3         [-1, 64, 256, 256]               0\n",
            "         MaxPool2d-4         [-1, 64, 128, 128]               0\n",
            "            Conv2d-5         [-1, 64, 128, 128]           4,096\n",
            "       BatchNorm2d-6         [-1, 64, 128, 128]             128\n",
            "              ReLU-7         [-1, 64, 128, 128]               0\n",
            "            Conv2d-8         [-1, 64, 128, 128]          36,864\n",
            "       BatchNorm2d-9         [-1, 64, 128, 128]             128\n",
            "             ReLU-10         [-1, 64, 128, 128]               0\n",
            "           Conv2d-11        [-1, 256, 128, 128]          16,384\n",
            "      BatchNorm2d-12        [-1, 256, 128, 128]             512\n",
            "           Conv2d-13        [-1, 256, 128, 128]          16,384\n",
            "      BatchNorm2d-14        [-1, 256, 128, 128]             512\n",
            "             ReLU-15        [-1, 256, 128, 128]               0\n",
            "       Bottleneck-16        [-1, 256, 128, 128]               0\n",
            "           Conv2d-17         [-1, 64, 128, 128]          16,384\n",
            "      BatchNorm2d-18         [-1, 64, 128, 128]             128\n",
            "             ReLU-19         [-1, 64, 128, 128]               0\n",
            "           Conv2d-20         [-1, 64, 128, 128]          36,864\n",
            "      BatchNorm2d-21         [-1, 64, 128, 128]             128\n",
            "             ReLU-22         [-1, 64, 128, 128]               0\n",
            "           Conv2d-23        [-1, 256, 128, 128]          16,384\n",
            "      BatchNorm2d-24        [-1, 256, 128, 128]             512\n",
            "             ReLU-25        [-1, 256, 128, 128]               0\n",
            "       Bottleneck-26        [-1, 256, 128, 128]               0\n",
            "           Conv2d-27         [-1, 64, 128, 128]          16,384\n",
            "      BatchNorm2d-28         [-1, 64, 128, 128]             128\n",
            "             ReLU-29         [-1, 64, 128, 128]               0\n",
            "           Conv2d-30         [-1, 64, 128, 128]          36,864\n",
            "      BatchNorm2d-31         [-1, 64, 128, 128]             128\n",
            "             ReLU-32         [-1, 64, 128, 128]               0\n",
            "           Conv2d-33        [-1, 256, 128, 128]          16,384\n",
            "      BatchNorm2d-34        [-1, 256, 128, 128]             512\n",
            "             ReLU-35        [-1, 256, 128, 128]               0\n",
            "       Bottleneck-36        [-1, 256, 128, 128]               0\n",
            "           Conv2d-37        [-1, 128, 128, 128]          32,768\n",
            "      BatchNorm2d-38        [-1, 128, 128, 128]             256\n",
            "             ReLU-39        [-1, 128, 128, 128]               0\n",
            "           Conv2d-40          [-1, 128, 64, 64]         147,456\n",
            "      BatchNorm2d-41          [-1, 128, 64, 64]             256\n",
            "             ReLU-42          [-1, 128, 64, 64]               0\n",
            "           Conv2d-43          [-1, 512, 64, 64]          65,536\n",
            "      BatchNorm2d-44          [-1, 512, 64, 64]           1,024\n",
            "           Conv2d-45          [-1, 512, 64, 64]         131,072\n",
            "      BatchNorm2d-46          [-1, 512, 64, 64]           1,024\n",
            "             ReLU-47          [-1, 512, 64, 64]               0\n",
            "       Bottleneck-48          [-1, 512, 64, 64]               0\n",
            "           Conv2d-49          [-1, 128, 64, 64]          65,536\n",
            "      BatchNorm2d-50          [-1, 128, 64, 64]             256\n",
            "             ReLU-51          [-1, 128, 64, 64]               0\n",
            "           Conv2d-52          [-1, 128, 64, 64]         147,456\n",
            "      BatchNorm2d-53          [-1, 128, 64, 64]             256\n",
            "             ReLU-54          [-1, 128, 64, 64]               0\n",
            "           Conv2d-55          [-1, 512, 64, 64]          65,536\n",
            "      BatchNorm2d-56          [-1, 512, 64, 64]           1,024\n",
            "             ReLU-57          [-1, 512, 64, 64]               0\n",
            "       Bottleneck-58          [-1, 512, 64, 64]               0\n",
            "           Conv2d-59          [-1, 128, 64, 64]          65,536\n",
            "      BatchNorm2d-60          [-1, 128, 64, 64]             256\n",
            "             ReLU-61          [-1, 128, 64, 64]               0\n",
            "           Conv2d-62          [-1, 128, 64, 64]         147,456\n",
            "      BatchNorm2d-63          [-1, 128, 64, 64]             256\n",
            "             ReLU-64          [-1, 128, 64, 64]               0\n",
            "           Conv2d-65          [-1, 512, 64, 64]          65,536\n",
            "      BatchNorm2d-66          [-1, 512, 64, 64]           1,024\n",
            "             ReLU-67          [-1, 512, 64, 64]               0\n",
            "       Bottleneck-68          [-1, 512, 64, 64]               0\n",
            "           Conv2d-69          [-1, 128, 64, 64]          65,536\n",
            "      BatchNorm2d-70          [-1, 128, 64, 64]             256\n",
            "             ReLU-71          [-1, 128, 64, 64]               0\n",
            "           Conv2d-72          [-1, 128, 64, 64]         147,456\n",
            "      BatchNorm2d-73          [-1, 128, 64, 64]             256\n",
            "             ReLU-74          [-1, 128, 64, 64]               0\n",
            "           Conv2d-75          [-1, 512, 64, 64]          65,536\n",
            "      BatchNorm2d-76          [-1, 512, 64, 64]           1,024\n",
            "             ReLU-77          [-1, 512, 64, 64]               0\n",
            "       Bottleneck-78          [-1, 512, 64, 64]               0\n",
            "           Conv2d-79          [-1, 256, 64, 64]         131,072\n",
            "      BatchNorm2d-80          [-1, 256, 64, 64]             512\n",
            "             ReLU-81          [-1, 256, 64, 64]               0\n",
            "           Conv2d-82          [-1, 256, 32, 32]         589,824\n",
            "      BatchNorm2d-83          [-1, 256, 32, 32]             512\n",
            "             ReLU-84          [-1, 256, 32, 32]               0\n",
            "           Conv2d-85         [-1, 1024, 32, 32]         262,144\n",
            "      BatchNorm2d-86         [-1, 1024, 32, 32]           2,048\n",
            "           Conv2d-87         [-1, 1024, 32, 32]         524,288\n",
            "      BatchNorm2d-88         [-1, 1024, 32, 32]           2,048\n",
            "             ReLU-89         [-1, 1024, 32, 32]               0\n",
            "       Bottleneck-90         [-1, 1024, 32, 32]               0\n",
            "           Conv2d-91          [-1, 256, 32, 32]         262,144\n",
            "      BatchNorm2d-92          [-1, 256, 32, 32]             512\n",
            "             ReLU-93          [-1, 256, 32, 32]               0\n",
            "           Conv2d-94          [-1, 256, 32, 32]         589,824\n",
            "      BatchNorm2d-95          [-1, 256, 32, 32]             512\n",
            "             ReLU-96          [-1, 256, 32, 32]               0\n",
            "           Conv2d-97         [-1, 1024, 32, 32]         262,144\n",
            "      BatchNorm2d-98         [-1, 1024, 32, 32]           2,048\n",
            "             ReLU-99         [-1, 1024, 32, 32]               0\n",
            "      Bottleneck-100         [-1, 1024, 32, 32]               0\n",
            "          Conv2d-101          [-1, 256, 32, 32]         262,144\n",
            "     BatchNorm2d-102          [-1, 256, 32, 32]             512\n",
            "            ReLU-103          [-1, 256, 32, 32]               0\n",
            "          Conv2d-104          [-1, 256, 32, 32]         589,824\n",
            "     BatchNorm2d-105          [-1, 256, 32, 32]             512\n",
            "            ReLU-106          [-1, 256, 32, 32]               0\n",
            "          Conv2d-107         [-1, 1024, 32, 32]         262,144\n",
            "     BatchNorm2d-108         [-1, 1024, 32, 32]           2,048\n",
            "            ReLU-109         [-1, 1024, 32, 32]               0\n",
            "      Bottleneck-110         [-1, 1024, 32, 32]               0\n",
            "          Conv2d-111          [-1, 256, 32, 32]         262,144\n",
            "     BatchNorm2d-112          [-1, 256, 32, 32]             512\n",
            "            ReLU-113          [-1, 256, 32, 32]               0\n",
            "          Conv2d-114          [-1, 256, 32, 32]         589,824\n",
            "     BatchNorm2d-115          [-1, 256, 32, 32]             512\n",
            "            ReLU-116          [-1, 256, 32, 32]               0\n",
            "          Conv2d-117         [-1, 1024, 32, 32]         262,144\n",
            "     BatchNorm2d-118         [-1, 1024, 32, 32]           2,048\n",
            "            ReLU-119         [-1, 1024, 32, 32]               0\n",
            "      Bottleneck-120         [-1, 1024, 32, 32]               0\n",
            "          Conv2d-121          [-1, 256, 32, 32]         262,144\n",
            "     BatchNorm2d-122          [-1, 256, 32, 32]             512\n",
            "            ReLU-123          [-1, 256, 32, 32]               0\n",
            "          Conv2d-124          [-1, 256, 32, 32]         589,824\n",
            "     BatchNorm2d-125          [-1, 256, 32, 32]             512\n",
            "            ReLU-126          [-1, 256, 32, 32]               0\n",
            "          Conv2d-127         [-1, 1024, 32, 32]         262,144\n",
            "     BatchNorm2d-128         [-1, 1024, 32, 32]           2,048\n",
            "            ReLU-129         [-1, 1024, 32, 32]               0\n",
            "      Bottleneck-130         [-1, 1024, 32, 32]               0\n",
            "          Conv2d-131          [-1, 256, 32, 32]         262,144\n",
            "     BatchNorm2d-132          [-1, 256, 32, 32]             512\n",
            "            ReLU-133          [-1, 256, 32, 32]               0\n",
            "          Conv2d-134          [-1, 256, 32, 32]         589,824\n",
            "     BatchNorm2d-135          [-1, 256, 32, 32]             512\n",
            "            ReLU-136          [-1, 256, 32, 32]               0\n",
            "          Conv2d-137         [-1, 1024, 32, 32]         262,144\n",
            "     BatchNorm2d-138         [-1, 1024, 32, 32]           2,048\n",
            "            ReLU-139         [-1, 1024, 32, 32]               0\n",
            "      Bottleneck-140         [-1, 1024, 32, 32]               0\n",
            "          Conv2d-141          [-1, 512, 32, 32]         524,288\n",
            "     BatchNorm2d-142          [-1, 512, 32, 32]           1,024\n",
            "            ReLU-143          [-1, 512, 32, 32]               0\n",
            "          Conv2d-144          [-1, 512, 16, 16]       2,359,296\n",
            "     BatchNorm2d-145          [-1, 512, 16, 16]           1,024\n",
            "            ReLU-146          [-1, 512, 16, 16]               0\n",
            "          Conv2d-147         [-1, 2048, 16, 16]       1,048,576\n",
            "     BatchNorm2d-148         [-1, 2048, 16, 16]           4,096\n",
            "          Conv2d-149         [-1, 2048, 16, 16]       2,097,152\n",
            "     BatchNorm2d-150         [-1, 2048, 16, 16]           4,096\n",
            "            ReLU-151         [-1, 2048, 16, 16]               0\n",
            "      Bottleneck-152         [-1, 2048, 16, 16]               0\n",
            "          Conv2d-153          [-1, 512, 16, 16]       1,048,576\n",
            "     BatchNorm2d-154          [-1, 512, 16, 16]           1,024\n",
            "            ReLU-155          [-1, 512, 16, 16]               0\n",
            "          Conv2d-156          [-1, 512, 16, 16]       2,359,296\n",
            "     BatchNorm2d-157          [-1, 512, 16, 16]           1,024\n",
            "            ReLU-158          [-1, 512, 16, 16]               0\n",
            "          Conv2d-159         [-1, 2048, 16, 16]       1,048,576\n",
            "     BatchNorm2d-160         [-1, 2048, 16, 16]           4,096\n",
            "            ReLU-161         [-1, 2048, 16, 16]               0\n",
            "      Bottleneck-162         [-1, 2048, 16, 16]               0\n",
            "          Conv2d-163          [-1, 512, 16, 16]       1,048,576\n",
            "     BatchNorm2d-164          [-1, 512, 16, 16]           1,024\n",
            "            ReLU-165          [-1, 512, 16, 16]               0\n",
            "          Conv2d-166          [-1, 512, 16, 16]       2,359,296\n",
            "     BatchNorm2d-167          [-1, 512, 16, 16]           1,024\n",
            "            ReLU-168          [-1, 512, 16, 16]               0\n",
            "          Conv2d-169         [-1, 2048, 16, 16]       1,048,576\n",
            "     BatchNorm2d-170         [-1, 2048, 16, 16]           4,096\n",
            "            ReLU-171         [-1, 2048, 16, 16]               0\n",
            "      Bottleneck-172         [-1, 2048, 16, 16]               0\n",
            "AdaptiveAvgPool2d-173           [-1, 2048, 1, 1]               0\n",
            "          Linear-174                    [-1, 3]           6,147\n",
            "================================================================\n",
            "Total params: 23,507,907\n",
            "Trainable params: 23,507,907\n",
            "Non-trainable params: 0\n",
            "----------------------------------------------------------------\n",
            "Input size (MB): 1.00\n",
            "Forward/backward pass size (MB): 1497.02\n",
            "Params size (MB): 89.68\n",
            "Estimated Total Size (MB): 1587.69\n",
            "----------------------------------------------------------------\n"
          ],
          "name": "stdout"
        }
      ]
    },
    {
      "cell_type": "code",
      "metadata": {
        "id": "xiko1pU04BCc",
        "colab_type": "code",
        "colab": {}
      },
      "source": [
        "criterion = nn.CrossEntropyLoss()\n",
        "optimizer = optim.SGD(resnet50_model.parameters(), lr=0.003, momentum=0.9)\n",
        "exp_lr_scheduler = lr_scheduler.StepLR(optimizer, step_size=7, gamma=0.1)"
      ],
      "execution_count": 0,
      "outputs": []
    },
    {
      "cell_type": "code",
      "metadata": {
        "id": "VDGmGVcl4D8E",
        "colab_type": "code",
        "outputId": "4dd06490-210b-400a-de40-fa0e689f5fbd",
        "colab": {
          "base_uri": "https://localhost:8080/",
          "height": 1000
        }
      },
      "source": [
        "train = train_model(resnet50_model, criterion, optimizer, exp_lr_scheduler, num_epochs=25)"
      ],
      "execution_count": 0,
      "outputs": [
        {
          "output_type": "stream",
          "text": [
            "Epoch 0/24\n",
            "----------\n",
            "train Loss: 0.5705 Acc: 0.7579\n",
            "val Loss: 0.2649 Acc: 0.9043\n",
            "\n",
            "Epoch 1/24\n",
            "----------\n",
            "train Loss: 0.2641 Acc: 0.8969\n",
            "val Loss: 0.3335 Acc: 0.8717\n",
            "\n",
            "Epoch 2/24\n",
            "----------\n",
            "train Loss: 0.1672 Acc: 0.9394\n",
            "val Loss: 0.1351 Acc: 0.9489\n",
            "\n",
            "Epoch 3/24\n",
            "----------\n",
            "train Loss: 0.0750 Acc: 0.9748\n",
            "val Loss: 0.1206 Acc: 0.9630\n",
            "\n",
            "Epoch 4/24\n",
            "----------\n",
            "train Loss: 0.0284 Acc: 0.9921\n",
            "val Loss: 0.4143 Acc: 0.8641\n",
            "\n",
            "Epoch 5/24\n",
            "----------\n",
            "train Loss: 0.0256 Acc: 0.9935\n",
            "val Loss: 0.0530 Acc: 0.9826\n",
            "\n",
            "Epoch 6/24\n",
            "----------\n",
            "train Loss: 0.0101 Acc: 0.9981\n",
            "val Loss: 0.0424 Acc: 0.9859\n",
            "\n",
            "Epoch 7/24\n",
            "----------\n",
            "train Loss: 0.0038 Acc: 1.0000\n",
            "val Loss: 0.0411 Acc: 0.9859\n",
            "\n",
            "Epoch 8/24\n",
            "----------\n",
            "train Loss: 0.0040 Acc: 0.9991\n",
            "val Loss: 0.0400 Acc: 0.9859\n",
            "\n",
            "Epoch 9/24\n",
            "----------\n",
            "train Loss: 0.0031 Acc: 1.0000\n",
            "val Loss: 0.0387 Acc: 0.9870\n",
            "\n",
            "Epoch 10/24\n",
            "----------\n",
            "train Loss: 0.0030 Acc: 1.0000\n",
            "val Loss: 0.0392 Acc: 0.9859\n",
            "\n",
            "Epoch 11/24\n",
            "----------\n",
            "train Loss: 0.0025 Acc: 1.0000\n",
            "val Loss: 0.0396 Acc: 0.9848\n",
            "\n",
            "Epoch 12/24\n",
            "----------\n",
            "train Loss: 0.0026 Acc: 1.0000\n",
            "val Loss: 0.0397 Acc: 0.9848\n",
            "\n",
            "Epoch 13/24\n",
            "----------\n",
            "train Loss: 0.0033 Acc: 0.9995\n",
            "val Loss: 0.0387 Acc: 0.9848\n",
            "\n",
            "Epoch 14/24\n",
            "----------\n",
            "train Loss: 0.0028 Acc: 1.0000\n",
            "val Loss: 0.0392 Acc: 0.9859\n",
            "\n",
            "Epoch 15/24\n",
            "----------\n",
            "train Loss: 0.0026 Acc: 1.0000\n",
            "val Loss: 0.0396 Acc: 0.9859\n",
            "\n",
            "Epoch 16/24\n",
            "----------\n",
            "train Loss: 0.0022 Acc: 1.0000\n",
            "val Loss: 0.0397 Acc: 0.9848\n",
            "\n",
            "Epoch 17/24\n",
            "----------\n",
            "train Loss: 0.0038 Acc: 0.9995\n",
            "val Loss: 0.0386 Acc: 0.9859\n",
            "\n",
            "Epoch 18/24\n",
            "----------\n",
            "train Loss: 0.0033 Acc: 1.0000\n",
            "val Loss: 0.0386 Acc: 0.9848\n",
            "\n",
            "Epoch 19/24\n",
            "----------\n",
            "train Loss: 0.0032 Acc: 0.9995\n",
            "val Loss: 0.0388 Acc: 0.9859\n",
            "\n",
            "Epoch 20/24\n",
            "----------\n",
            "train Loss: 0.0030 Acc: 1.0000\n",
            "val Loss: 0.0394 Acc: 0.9859\n",
            "\n",
            "Epoch 21/24\n",
            "----------\n",
            "train Loss: 0.0025 Acc: 1.0000\n",
            "val Loss: 0.0386 Acc: 0.9859\n",
            "\n",
            "Epoch 22/24\n",
            "----------\n",
            "train Loss: 0.0021 Acc: 1.0000\n",
            "val Loss: 0.0391 Acc: 0.9859\n",
            "\n",
            "Epoch 23/24\n",
            "----------\n",
            "train Loss: 0.0038 Acc: 0.9991\n",
            "val Loss: 0.0393 Acc: 0.9859\n",
            "\n",
            "Epoch 24/24\n",
            "----------\n",
            "train Loss: 0.0018 Acc: 1.0000\n",
            "val Loss: 0.0388 Acc: 0.9859\n",
            "\n",
            "Training complete in 55m 57s\n",
            "Best val Acc: 0.986957\n"
          ],
          "name": "stdout"
        }
      ]
    },
    {
      "cell_type": "code",
      "metadata": {
        "id": "OmPrcf8e4U2G",
        "colab_type": "code",
        "colab": {}
      },
      "source": [
        "# class Normalize(transforms.Normalize):\n",
        "#     super(self).__init__():\n",
        "\n",
        "\n",
        "\n",
        "# # class MyDataset(Dataset):\n",
        "# #     def __init__(self):\n",
        "# #         self.data = torch.randn(100, 3, 24, 24)\n",
        "        \n",
        "# #     def __getitem__(self, index):\n",
        "# #         x = self.data[index]\n",
        "# #         return x\n",
        "\n",
        "# #     def __len__(self):\n",
        "# #         return len(self.data)\n",
        "    \n",
        "\n",
        "# # dataset = MyDataset()\n",
        "# # loader = DataLoader(\n",
        "# #     dataset,\n",
        "# #     batch_size=10,\n",
        "# #     num_workers=1,\n",
        "# #     shuffle=False\n",
        "# # )\n",
        "\n",
        "\n",
        "# mean = 0.\n",
        "# std = 0.\n",
        "# nb_samples = 0.\n",
        "# for data in loader:\n",
        "#     batch_samples = data.size(0)\n",
        "#     data = data.view(batch_samples, data.size(1), -1)\n",
        "#     mean += data.mean(2).sum(0)\n",
        "#     std += data.std(2).sum(0)\n",
        "#     nb_samples += batch_samples\n",
        "\n",
        "# mean /= nb_samples\n",
        "# std /= nb_samples"
      ],
      "execution_count": 0,
      "outputs": []
    },
    {
      "cell_type": "code",
      "metadata": {
        "id": "Lg05HCkBdTfW",
        "colab_type": "code",
        "outputId": "eef3e32e-559c-465a-8523-120511c35609",
        "colab": {
          "base_uri": "https://localhost:8080/",
          "height": 337
        }
      },
      "source": [
        "from torchsummary import summary\n",
        "\n",
        "summary(network, (1, 128, 128), -1, 'cuda')"
      ],
      "execution_count": 0,
      "outputs": [
        {
          "output_type": "error",
          "ename": "RuntimeError",
          "evalue": "ignored",
          "traceback": [
            "\u001b[0;31m---------------------------------------------------------------------------\u001b[0m",
            "\u001b[0;31mRuntimeError\u001b[0m                              Traceback (most recent call last)",
            "\u001b[0;32m<ipython-input-24-5ce459d4634a>\u001b[0m in \u001b[0;36m<module>\u001b[0;34m()\u001b[0m\n\u001b[1;32m      1\u001b[0m \u001b[0;32mfrom\u001b[0m \u001b[0mtorchsummary\u001b[0m \u001b[0;32mimport\u001b[0m \u001b[0msummary\u001b[0m\u001b[0;34m\u001b[0m\u001b[0;34m\u001b[0m\u001b[0m\n\u001b[1;32m      2\u001b[0m \u001b[0;34m\u001b[0m\u001b[0m\n\u001b[0;32m----> 3\u001b[0;31m \u001b[0msummary\u001b[0m\u001b[0;34m(\u001b[0m\u001b[0mnetwork\u001b[0m\u001b[0;34m,\u001b[0m \u001b[0;34m(\u001b[0m\u001b[0;36m1\u001b[0m\u001b[0;34m,\u001b[0m \u001b[0;36m128\u001b[0m\u001b[0;34m,\u001b[0m \u001b[0;36m128\u001b[0m\u001b[0;34m)\u001b[0m\u001b[0;34m,\u001b[0m \u001b[0;34m-\u001b[0m\u001b[0;36m1\u001b[0m\u001b[0;34m,\u001b[0m \u001b[0;34m'cuda'\u001b[0m\u001b[0;34m)\u001b[0m\u001b[0;34m\u001b[0m\u001b[0;34m\u001b[0m\u001b[0m\n\u001b[0m",
            "\u001b[0;32m/usr/local/lib/python3.6/dist-packages/torchsummary/torchsummary.py\u001b[0m in \u001b[0;36msummary\u001b[0;34m(model, input_size, batch_size, device)\u001b[0m\n\u001b[1;32m     58\u001b[0m \u001b[0;34m\u001b[0m\u001b[0m\n\u001b[1;32m     59\u001b[0m     \u001b[0;31m# batch_size of 2 for batchnorm\u001b[0m\u001b[0;34m\u001b[0m\u001b[0;34m\u001b[0m\u001b[0;34m\u001b[0m\u001b[0m\n\u001b[0;32m---> 60\u001b[0;31m     \u001b[0mx\u001b[0m \u001b[0;34m=\u001b[0m \u001b[0;34m[\u001b[0m\u001b[0mtorch\u001b[0m\u001b[0;34m.\u001b[0m\u001b[0mrand\u001b[0m\u001b[0;34m(\u001b[0m\u001b[0;36m2\u001b[0m\u001b[0;34m,\u001b[0m \u001b[0;34m*\u001b[0m\u001b[0min_size\u001b[0m\u001b[0;34m)\u001b[0m\u001b[0;34m.\u001b[0m\u001b[0mtype\u001b[0m\u001b[0;34m(\u001b[0m\u001b[0mdtype\u001b[0m\u001b[0;34m)\u001b[0m \u001b[0;32mfor\u001b[0m \u001b[0min_size\u001b[0m \u001b[0;32min\u001b[0m \u001b[0minput_size\u001b[0m\u001b[0;34m]\u001b[0m\u001b[0;34m\u001b[0m\u001b[0;34m\u001b[0m\u001b[0m\n\u001b[0m\u001b[1;32m     61\u001b[0m     \u001b[0;31m# print(type(x[0]))\u001b[0m\u001b[0;34m\u001b[0m\u001b[0;34m\u001b[0m\u001b[0;34m\u001b[0m\u001b[0m\n\u001b[1;32m     62\u001b[0m \u001b[0;34m\u001b[0m\u001b[0m\n",
            "\u001b[0;32m/usr/local/lib/python3.6/dist-packages/torchsummary/torchsummary.py\u001b[0m in \u001b[0;36m<listcomp>\u001b[0;34m(.0)\u001b[0m\n\u001b[1;32m     58\u001b[0m \u001b[0;34m\u001b[0m\u001b[0m\n\u001b[1;32m     59\u001b[0m     \u001b[0;31m# batch_size of 2 for batchnorm\u001b[0m\u001b[0;34m\u001b[0m\u001b[0;34m\u001b[0m\u001b[0;34m\u001b[0m\u001b[0m\n\u001b[0;32m---> 60\u001b[0;31m     \u001b[0mx\u001b[0m \u001b[0;34m=\u001b[0m \u001b[0;34m[\u001b[0m\u001b[0mtorch\u001b[0m\u001b[0;34m.\u001b[0m\u001b[0mrand\u001b[0m\u001b[0;34m(\u001b[0m\u001b[0;36m2\u001b[0m\u001b[0;34m,\u001b[0m \u001b[0;34m*\u001b[0m\u001b[0min_size\u001b[0m\u001b[0;34m)\u001b[0m\u001b[0;34m.\u001b[0m\u001b[0mtype\u001b[0m\u001b[0;34m(\u001b[0m\u001b[0mdtype\u001b[0m\u001b[0;34m)\u001b[0m \u001b[0;32mfor\u001b[0m \u001b[0min_size\u001b[0m \u001b[0;32min\u001b[0m \u001b[0minput_size\u001b[0m\u001b[0;34m]\u001b[0m\u001b[0;34m\u001b[0m\u001b[0;34m\u001b[0m\u001b[0m\n\u001b[0m\u001b[1;32m     61\u001b[0m     \u001b[0;31m# print(type(x[0]))\u001b[0m\u001b[0;34m\u001b[0m\u001b[0;34m\u001b[0m\u001b[0;34m\u001b[0m\u001b[0m\n\u001b[1;32m     62\u001b[0m \u001b[0;34m\u001b[0m\u001b[0m\n",
            "\u001b[0;31mRuntimeError\u001b[0m: CUDA error: device-side assert triggered"
          ]
        }
      ]
    }
  ]
}