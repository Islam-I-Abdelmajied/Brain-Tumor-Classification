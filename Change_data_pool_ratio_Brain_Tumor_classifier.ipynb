{
  "nbformat": 4,
  "nbformat_minor": 0,
  "metadata": {
    "orig_nbformat": 2,
    "file_extension": ".py",
    "mimetype": "text/x-python",
    "name": "python",
    "npconvert_exporter": "python",
    "pygments_lexer": "ipython3",
    "version": 3,
    "kernelspec": {
      "name": "python3",
      "display_name": "Python 3"
    },
    "colab": {
      "name": "Change_data_pool_ratio_Brain_Tumor_classifier.ipynb",
      "provenance": [],
      "collapsed_sections": [],
      "include_colab_link": true
    },
    "accelerator": "GPU"
  },
  "cells": [
    {
      "cell_type": "markdown",
      "metadata": {
        "id": "view-in-github",
        "colab_type": "text"
      },
      "source": [
        "<a href=\"https://colab.research.google.com/github/Islam-I-Abdelmajied/Brain-Tumor-Classification/blob/master/Change_data_pool_ratio_Brain_Tumor_classifier.ipynb\" target=\"_parent\"><img src=\"https://colab.research.google.com/assets/colab-badge.svg\" alt=\"Open In Colab\"/></a>"
      ]
    },
    {
      "cell_type": "markdown",
      "metadata": {
        "id": "N7eYiR4BBpNy",
        "colab_type": "text"
      },
      "source": [
        "# Data preprocessing "
      ]
    },
    {
      "cell_type": "code",
      "metadata": {
        "id": "FrSDvKtxP6r0",
        "colab_type": "code",
        "outputId": "940c6132-0c0e-4a04-bbbc-d3dc9bbfa7ad",
        "colab": {
          "base_uri": "https://localhost:8080/",
          "height": 370
        }
      },
      "source": [
        "!pip install wget\n",
        "!pip install mat73"
      ],
      "execution_count": 1,
      "outputs": [
        {
          "output_type": "stream",
          "text": [
            "Collecting wget\n",
            "  Downloading https://files.pythonhosted.org/packages/47/6a/62e288da7bcda82b935ff0c6cfe542970f04e29c756b0e147251b2fb251f/wget-3.2.zip\n",
            "Building wheels for collected packages: wget\n",
            "  Building wheel for wget (setup.py) ... \u001b[?25l\u001b[?25hdone\n",
            "  Created wheel for wget: filename=wget-3.2-cp36-none-any.whl size=9682 sha256=375d73c70330dab7a85123ae62beb63489cd56fb18f12ea6aa4f9e7f0151234c\n",
            "  Stored in directory: /root/.cache/pip/wheels/40/15/30/7d8f7cea2902b4db79e3fea550d7d7b85ecb27ef992b618f3f\n",
            "Successfully built wget\n",
            "Installing collected packages: wget\n",
            "Successfully installed wget-3.2\n",
            "Collecting mat73\n",
            "  Downloading https://files.pythonhosted.org/packages/6f/86/0a8d0083fdbced0ae02f8cdd8eb8bbc496b99c035078dc792646cc2bcf1d/mat73-0.35.tar.gz\n",
            "Requirement already satisfied: h5py in /usr/local/lib/python3.6/dist-packages (from mat73) (2.8.0)\n",
            "Requirement already satisfied: numpy in /usr/local/lib/python3.6/dist-packages (from mat73) (1.18.1)\n",
            "Requirement already satisfied: six in /usr/local/lib/python3.6/dist-packages (from h5py->mat73) (1.12.0)\n",
            "Building wheels for collected packages: mat73\n",
            "  Building wheel for mat73 (setup.py) ... \u001b[?25l\u001b[?25hdone\n",
            "  Created wheel for mat73: filename=mat73-0.35-cp36-none-any.whl size=3401 sha256=11cd67e366d802c8e331d1fd73b4541c16c7287a27e3c5c134ce7bf410935731\n",
            "  Stored in directory: /root/.cache/pip/wheels/16/60/66/04d98331f8f42fa55b475d119f2804d7203225223d356be499\n",
            "Successfully built mat73\n",
            "Installing collected packages: mat73\n",
            "Successfully installed mat73-0.35\n"
          ],
          "name": "stdout"
        }
      ]
    },
    {
      "cell_type": "markdown",
      "metadata": {
        "id": "PnHN50zvBy3l",
        "colab_type": "text"
      },
      "source": [
        "### 1) Extract data"
      ]
    },
    {
      "cell_type": "code",
      "metadata": {
        "id": "rYo2btn1veMG",
        "colab_type": "code",
        "outputId": "9cc7b44e-82bd-4878-8cba-e76f4f03a482",
        "colab": {
          "base_uri": "https://localhost:8080/",
          "height": 34
        }
      },
      "source": [
        "import wget\n",
        "from tqdm import tqdm\n",
        "url ='https://ndownloader.figshare.com/articles/1512427/versions/5'\n",
        "wget.download(url)\n",
        "import os\n",
        "os.rename('1512427.zip', 'mat_data.zip')\n",
        "\n",
        "\n",
        "\n",
        "import zipfile\n",
        "with zipfile.ZipFile(\"mat_data.zip\",\"r\") as zip_ref:\n",
        "    zip_ref.extractall(\"datasetzipfiles\")\n",
        "os.remove('/content/mat_data.zip')\n",
        "\n",
        "\n",
        "os.remove('/content/datasetzipfiles/README.txt')\n",
        "os.remove('/content/datasetzipfiles/cvind.mat')\n",
        "\n",
        "zipfiles = os.listdir('/content/datasetzipfiles')\n",
        "\n",
        "\n",
        "for file in tqdm(zipfiles):\n",
        "    with zipfile.ZipFile('/content/datasetzipfiles/'+file,\"r\") as zip_ref:\n",
        "        zip_ref.extractall(\"/content/dataset\")\n",
        "    os.remove('/content/datasetzipfiles/'+file)\n",
        "os.rmdir('/content/datasetzipfiles')\n"
      ],
      "execution_count": 2,
      "outputs": [
        {
          "output_type": "stream",
          "text": [
            "100%|██████████| 4/4 [00:27<00:00,  6.97s/it]\n"
          ],
          "name": "stderr"
        }
      ]
    },
    {
      "cell_type": "code",
      "metadata": {
        "id": "YQpkKK1d0832",
        "colab_type": "code",
        "outputId": "18f0891c-b089-4c94-c796-24b5d5e8bd84",
        "colab": {
          "base_uri": "https://localhost:8080/",
          "height": 50
        }
      },
      "source": [
        "#Check data\n",
        "mat_dataset = os.listdir('/content/dataset')\n",
        "print(len(mat_dataset))\n",
        "print(mat_dataset[0])"
      ],
      "execution_count": 3,
      "outputs": [
        {
          "output_type": "stream",
          "text": [
            "3064\n",
            "2654.mat\n"
          ],
          "name": "stdout"
        }
      ]
    },
    {
      "cell_type": "code",
      "metadata": {
        "id": "Ec5dk6rusA-a",
        "colab_type": "code",
        "colab": {}
      },
      "source": [
        "import torch\n",
        "import torchvision\n",
        "from torch.utils.data import Dataset, DataLoader\n",
        "from torch.utils.data.sampler import SubsetRandomSampler\n",
        "from torchvision import transforms, utils, models\n",
        "\n",
        "import numpy as np \n",
        "import PIL\n",
        "import os\n",
        "\n",
        "import mat73\n",
        "from tqdm import tqdm\n",
        "import matplotlib.pyplot as plt \n",
        "%matplotlib inline\n",
        "plt.ion()"
      ],
      "execution_count": 0,
      "outputs": []
    },
    {
      "cell_type": "markdown",
      "metadata": {
        "id": "TT3-wTszsA-c",
        "colab_type": "text"
      },
      "source": [
        "## Data loading"
      ]
    },
    {
      "cell_type": "code",
      "metadata": {
        "id": "7L5kFkUNsA-n",
        "colab_type": "code",
        "colab": {}
      },
      "source": [
        "########### try using balanced classes 708 930 1000 ###########"
      ],
      "execution_count": 0,
      "outputs": []
    },
    {
      "cell_type": "markdown",
      "metadata": {
        "id": "uRLrXAdhsA-s",
        "colab_type": "text"
      },
      "source": [
        "### 2) Transform data"
      ]
    },
    {
      "cell_type": "code",
      "metadata": {
        "id": "_iL5hraYYd-9",
        "colab_type": "code",
        "colab": {
          "base_uri": "https://localhost:8080/",
          "height": 34
        },
        "outputId": "9a51c057-98f8-48fc-f45a-62e440be2db0"
      },
      "source": [
        "def mat_to_list(dir):\n",
        "    files = os.listdir(dir)\n",
        "    data_struct = []\n",
        "    data_labels = []\n",
        "\n",
        "    for file in tqdm(files):\n",
        "        data_dict = mat73.loadmat(dir + file)\n",
        "        data_struct.append([np.float32(data_dict['cjdata']['image']), int(data_dict['cjdata']['label'])-1])\n",
        "        data_labels.append( int(data_dict['cjdata']['label'])-1)\n",
        "    return data_struct, data_labels\n",
        "\n",
        "dataset, data_labels= mat_to_list('/content/dataset/')\n",
        "\n"
      ],
      "execution_count": 8,
      "outputs": [
        {
          "output_type": "stream",
          "text": [
            "100%|██████████| 3064/3064 [00:22<00:00, 133.84it/s]\n"
          ],
          "name": "stderr"
        }
      ]
    },
    {
      "cell_type": "code",
      "metadata": {
        "id": "lsRT0bicyevV",
        "colab_type": "code",
        "colab": {}
      },
      "source": [
        "def data_pool_mat_to_list(dir, threshold=None):\n",
        "    files = os.listdir(dir)\n",
        "    data_struct = []\n",
        "    data_labels = []\n",
        "    counter = 0\n",
        "\n",
        "    for file in tqdm(files):\n",
        "        data_dict = mat73.loadmat(dir + file)\n",
        "        if int(data_dict['cjdata']['label'])-1 != 1:\n",
        "            data_struct.append([np.float32(data_dict['cjdata']['image']), int(data_dict['cjdata']['label'])-1])\n",
        "            data_labels.append( int(data_dict['cjdata']['label'])-1)\n",
        "        elif int(data_dict['cjdata']['label'])-1 == 1 and counter <= threshold:\n",
        "            data_struct.append([np.float32(data_dict['cjdata']['image']), int(data_dict['cjdata']['label'])-1])\n",
        "            data_labels.append( int(data_dict['cjdata']['label'])-1)\n",
        "            counter += 1\n",
        "        else:\n",
        "            continue \n",
        "\n",
        "    return data_struct, data_labels"
      ],
      "execution_count": 0,
      "outputs": []
    },
    {
      "cell_type": "code",
      "metadata": {
        "id": "1clRz_os0AlP",
        "colab_type": "code",
        "colab": {
          "base_uri": "https://localhost:8080/",
          "height": 34
        },
        "outputId": "c9d4ed63-9217-47ce-bff1-f30d52df269e"
      },
      "source": [
        "dataset, data_labels= data_pool_mat_to_list('/content/dataset/', 1000)"
      ],
      "execution_count": 12,
      "outputs": [
        {
          "output_type": "stream",
          "text": [
            "100%|██████████| 3064/3064 [00:21<00:00, 140.54it/s]\n"
          ],
          "name": "stderr"
        }
      ]
    },
    {
      "cell_type": "code",
      "metadata": {
        "id": "RflIxBJ4Y1YN",
        "colab_type": "code",
        "colab": {
          "base_uri": "https://localhost:8080/",
          "height": 34
        },
        "outputId": "7cd40c0d-377c-46af-e530-fc074debff44"
      },
      "source": [
        "len(dataset)"
      ],
      "execution_count": 13,
      "outputs": [
        {
          "output_type": "execute_result",
          "data": {
            "text/plain": [
              "2639"
            ]
          },
          "metadata": {
            "tags": []
          },
          "execution_count": 13
        }
      ]
    },
    {
      "cell_type": "code",
      "metadata": {
        "id": "LQcxlZhwyWkE",
        "colab_type": "code",
        "colab": {
          "base_uri": "https://localhost:8080/",
          "height": 34
        },
        "outputId": "ad5ad57a-7b54-4cb3-be35-1a225c07ac21"
      },
      "source": [
        "len(data_labels)"
      ],
      "execution_count": 14,
      "outputs": [
        {
          "output_type": "execute_result",
          "data": {
            "text/plain": [
              "2639"
            ]
          },
          "metadata": {
            "tags": []
          },
          "execution_count": 14
        }
      ]
    },
    {
      "cell_type": "code",
      "metadata": {
        "id": "SOd54EUNxiz5",
        "colab_type": "code",
        "colab": {
          "base_uri": "https://localhost:8080/",
          "height": 34
        },
        "outputId": "67ba039c-42fd-4836-9481-c5a17df5f4a1"
      },
      "source": [
        "from collections import Counter################################\n",
        "Counter(data_labels) ##########################################"
      ],
      "execution_count": 15,
      "outputs": [
        {
          "output_type": "execute_result",
          "data": {
            "text/plain": [
              "Counter({0: 708, 1: 1001, 2: 930})"
            ]
          },
          "metadata": {
            "tags": []
          },
          "execution_count": 15
        }
      ]
    },
    {
      "cell_type": "code",
      "metadata": {
        "id": "AMcnmBABPcfc",
        "colab_type": "code",
        "outputId": "f8a74478-e9c0-4f3b-d72c-4a3b49bc6d19",
        "colab": {
          "base_uri": "https://localhost:8080/",
          "height": 34
        }
      },
      "source": [
        "# dataset = mat_to_list('/content/dataset/')\n",
        "# batch_size = 16\n",
        "# test_size = .2\n",
        "# valid_size = .2\n",
        "# shuffle_dataset = True\n",
        "# seed= 69\n",
        "\n",
        "# dataset_size = len(dataset)\n",
        "# train_split = int(np.floor(dataset_size - dataset_size * (test_size + valid_size) ))\n",
        "# test_split = int(np.floor(train_split + dataset_size * test_size ))\n",
        "\n",
        "# indices = list(range(dataset_size))\n",
        "# if shuffle_dataset :\n",
        "#     np.random.seed(seed)\n",
        "#     np.random.shuffle(indices)\n",
        "\n",
        "# train_indices, test_indices, valid_indices = indices[:train_split], indices[train_split: test_split], indices[test_split:]"
      ],
      "execution_count": 0,
      "outputs": [
        {
          "output_type": "stream",
          "text": [
            "100%|██████████| 3064/3064 [00:26<00:00, 115.76it/s]\n"
          ],
          "name": "stderr"
        }
      ]
    },
    {
      "cell_type": "code",
      "metadata": {
        "id": "w9WW3z-sQVA9",
        "colab_type": "code",
        "outputId": "1906af38-5451-464b-a49a-675368e6049b",
        "colab": {
          "base_uri": "https://localhost:8080/",
          "height": 34
        }
      },
      "source": [
        "# len(dataset)"
      ],
      "execution_count": 0,
      "outputs": [
        {
          "output_type": "execute_result",
          "data": {
            "text/plain": [
              "3064"
            ]
          },
          "metadata": {
            "tags": []
          },
          "execution_count": 19
        }
      ]
    },
    {
      "cell_type": "code",
      "metadata": {
        "id": "at1h3GZIP1zu",
        "colab_type": "code",
        "colab": {}
      },
      "source": [
        "# train_dataset = dataset[:train_split]\n",
        "# test_dataset = dataset[train_split: test_split]\n",
        "# valid_dataset = dataset[test_split:]"
      ],
      "execution_count": 0,
      "outputs": []
    },
    {
      "cell_type": "code",
      "metadata": {
        "id": "LCJ8xH6GRMKF",
        "colab_type": "code",
        "outputId": "52c75026-2023-4526-fc2f-2d6bd32ac995",
        "colab": {
          "base_uri": "https://localhost:8080/",
          "height": 67
        }
      },
      "source": [
        "# print(len(train_dataset))\n",
        "# print(len(test_dataset))\n",
        "# print(len(valid_dataset))"
      ],
      "execution_count": 0,
      "outputs": [
        {
          "output_type": "stream",
          "text": [
            "1838\n",
            "612\n",
            "614\n"
          ],
          "name": "stdout"
        }
      ]
    },
    {
      "cell_type": "code",
      "metadata": {
        "id": "xkpSrVyosA-t",
        "colab_type": "code",
        "colab": {}
      },
      "source": [
        "class BrainTumorDataset(Dataset):\n",
        "    def __init__(self, dir, transform=None):\n",
        "\n",
        "        self.files = os.listdir(dir)\n",
        "        self.data_struct = []\n",
        "        self.transform = transform\n",
        "\n",
        "        for file in tqdm(self.files):\n",
        "            data_dict = mat73.loadmat(dir + file)\n",
        "            self.data_struct.append([np.float32(data_dict['cjdata']['image']), int(data_dict['cjdata']['label'])-1])\n",
        "        \n",
        "    def __len__(self):\n",
        "        return len(self.data_struct)\n",
        "\n",
        "    def __getitem__(self, index):\n",
        "\n",
        "        image = PIL.Image.fromarray(self.data_struct[index][0])\n",
        "\n",
        "\n",
        "        if self.transform:\n",
        "            image = self.transform(image)\n",
        "\n",
        "        label = self.data_struct[index][1]\n",
        "\n",
        "        sample = image , label\n",
        "        return sample"
      ],
      "execution_count": 0,
      "outputs": []
    },
    {
      "cell_type": "code",
      "metadata": {
        "id": "WTm_-7lG0ten",
        "colab_type": "code",
        "colab": {}
      },
      "source": [
        "class BrainTumorWithSplitDataset(Dataset):\n",
        "    def __init__(self, dir, threshold=None, transform=None):\n",
        "\n",
        "        self.files = os.listdir(dir)\n",
        "        self.data_struct = []\n",
        "        self.transform = transform\n",
        "        self.counter = 0\n",
        "\n",
        "        for file in tqdm(self.files):\n",
        "            data_dict = mat73.loadmat(dir + file)\n",
        "            if int(data_dict['cjdata']['label'])-1 != 1:\n",
        "                self.data_struct.append([np.float32(data_dict['cjdata']['image']), int(data_dict['cjdata']['label'])-1])\n",
        "            elif int(data_dict['cjdata']['label'])-1 == 1 and self.counter < threshold:\n",
        "                self.data_struct.append([np.float32(data_dict['cjdata']['image']), int(data_dict['cjdata']['label'])-1])\n",
        "                self.counter += 1\n",
        "        \n",
        "    def __len__(self):\n",
        "        return len(self.data_struct)\n",
        "\n",
        "    def __getitem__(self, index):\n",
        "\n",
        "        image = PIL.Image.fromarray(self.data_struct[index][0])\n",
        "\n",
        "\n",
        "        if self.transform:\n",
        "            image = self.transform(image)\n",
        "\n",
        "        label = self.data_struct[index][1]\n",
        "\n",
        "        sample = image , label\n",
        "        return sample"
      ],
      "execution_count": 0,
      "outputs": []
    },
    {
      "cell_type": "code",
      "metadata": {
        "id": "VSjVC6eisA-w",
        "colab_type": "code",
        "colab": {}
      },
      "source": [
        "data_transform = transforms.Compose([transforms.Resize(256),\n",
        "                                     transforms.ToTensor()])"
      ],
      "execution_count": 0,
      "outputs": []
    },
    {
      "cell_type": "code",
      "metadata": {
        "id": "XAEU8k_U1dKO",
        "colab_type": "code",
        "colab": {
          "base_uri": "https://localhost:8080/",
          "height": 34
        },
        "outputId": "a7bde5de-f62d-4cee-8760-31efd909a37a"
      },
      "source": [
        "dataset = BrainTumorDataset('/content/dataset/', transform=data_transform)"
      ],
      "execution_count": 38,
      "outputs": [
        {
          "output_type": "stream",
          "text": [
            "100%|██████████| 3064/3064 [00:24<00:00, 126.70it/s]\n"
          ],
          "name": "stderr"
        }
      ]
    },
    {
      "cell_type": "code",
      "metadata": {
        "id": "IQwIu0681g4V",
        "colab_type": "code",
        "colab": {
          "base_uri": "https://localhost:8080/",
          "height": 34
        },
        "outputId": "990c3a38-37ba-433d-9402-4018eaa88d42"
      },
      "source": [
        "dataset = BrainTumorWithSplitDataset('/content/dataset/', threshold=1000, transform=data_transform)"
      ],
      "execution_count": 20,
      "outputs": [
        {
          "output_type": "stream",
          "text": [
            "100%|██████████| 3064/3064 [00:21<00:00, 141.61it/s]\n"
          ],
          "name": "stderr"
        }
      ]
    },
    {
      "cell_type": "markdown",
      "metadata": {
        "id": "5ueD8llWCCDO",
        "colab_type": "text"
      },
      "source": [
        "### 3) Load data"
      ]
    },
    {
      "cell_type": "code",
      "metadata": {
        "id": "BlyoojFqsA_A",
        "colab_type": "code",
        "colab": {}
      },
      "source": [
        "\n",
        "batch_size = 32\n",
        "test_size = .2\n",
        "valid_size = .2\n",
        "shuffle_dataset = True\n",
        "seed= 69\n",
        "\n",
        "dataset_size = len(dataset)\n",
        "train_split = int(np.floor(dataset_size - dataset_size * (test_size + valid_size) ))\n",
        "test_split = int(np.floor(train_split + dataset_size * test_size ))\n",
        "\n",
        "indices = list(range(dataset_size))\n",
        "if shuffle_dataset :\n",
        "    np.random.seed(seed)\n",
        "    np.random.shuffle(indices)\n",
        "\n",
        "train_indices, test_indices, valid_indices = indices[:train_split], indices[train_split: test_split], indices[test_split:]\n",
        "\n",
        "train_sampler = SubsetRandomSampler(train_indices)\n",
        "test_sampler = SubsetRandomSampler(test_indices)\n",
        "valid_sampler = SubsetRandomSampler(valid_indices)\n",
        "\n",
        "train_loader = DataLoader(dataset, batch_size=batch_size, sampler=train_sampler)\n",
        "test_loader = DataLoader(dataset, batch_size=batch_size, sampler=test_sampler)\n",
        "valid_loader = DataLoader(dataset, batch_size=batch_size, sampler=valid_sampler)"
      ],
      "execution_count": 0,
      "outputs": []
    },
    {
      "cell_type": "code",
      "metadata": {
        "id": "3uxiY0NcioSA",
        "colab_type": "code",
        "colab": {}
      },
      "source": [
        "\n",
        "batch_size = 32\n",
        "test_size = 0\n",
        "valid_size = 0.3\n",
        "shuffle_dataset = True\n",
        "seed= 69\n",
        "\n",
        "dataset_size = len(dataset)\n",
        "train_split = int(np.floor(dataset_size - dataset_size * (test_size + valid_size) ))\n",
        "test_split = int(np.floor(train_split + dataset_size * test_size ))\n",
        "\n",
        "indices = list(range(dataset_size))\n",
        "if shuffle_dataset :\n",
        "    np.random.seed(seed)\n",
        "    np.random.shuffle(indices)\n",
        "\n",
        "train_indices, test_indices, valid_indices = indices[:train_split], indices[train_split: test_split], indices[test_split:]\n",
        "\n",
        "train_sampler = SubsetRandomSampler(train_indices)\n",
        "test_sampler = SubsetRandomSampler(test_indices)\n",
        "valid_sampler = SubsetRandomSampler(valid_indices)\n",
        "\n",
        "train_loader = DataLoader(dataset, batch_size=batch_size, sampler=train_sampler)\n",
        "test_loader = DataLoader(dataset, batch_size=batch_size, sampler=test_sampler)\n",
        "valid_loader = DataLoader(dataset, batch_size=batch_size, sampler=valid_sampler)"
      ],
      "execution_count": 0,
      "outputs": []
    },
    {
      "cell_type": "code",
      "metadata": {
        "id": "80BpPb3JHKZu",
        "colab_type": "code",
        "colab": {}
      },
      "source": [
        "# mean = 0.\n",
        "# std = 0.\n",
        "# nb_samples = 0.\n",
        "# for data in train_loader:\n",
        "#     batch_samples = data.size(0)\n",
        "#     data = data.view(batch_samples, data.size(1), -1)\n",
        "#     mean += data.mean(2).sum(0)\n",
        "#     std += data.std(2).sum(0)\n",
        "#     nb_samples += batch_samples\n",
        "\n",
        "# mean /= nb_samples\n",
        "# std /= nb_samples"
      ],
      "execution_count": 0,
      "outputs": []
    },
    {
      "cell_type": "code",
      "metadata": {
        "id": "L9jEYjNVsA_D",
        "colab_type": "code",
        "outputId": "c59459eb-abb8-4abe-c05c-ea0ebcd889fa",
        "colab": {
          "base_uri": "https://localhost:8080/",
          "height": 511
        }
      },
      "source": [
        "images, labels = next(iter(train_loader))\n",
        "fig= plt.figure(figsize=(7, 7))\n",
        "print(images.shape)\n",
        "print(labels[3])\n",
        "print(labels)\n",
        "plt.imshow(images[0][0], cmap='gray')\n",
        "plt.title(int(labels[0]))\n",
        "plt.show()"
      ],
      "execution_count": 41,
      "outputs": [
        {
          "output_type": "stream",
          "text": [
            "torch.Size([32, 1, 256, 256])\n",
            "tensor(1)\n",
            "tensor([2, 2, 2, 1, 2, 0, 2, 1, 0, 0, 1, 0, 0, 0, 1, 1, 1, 0, 2, 1, 1, 0, 1, 2,\n",
            "        2, 1, 0, 2, 1, 2, 2, 1])\n"
          ],
          "name": "stdout"
        },
        {
          "output_type": "display_data",
          "data": {
            "image/png": "[encoded data removed]",
            "text/plain": [
              "<Figure size 504x504 with 1 Axes>"
            ]
          },
          "metadata": {
            "tags": []
          }
        }
      ]
    },
    {
      "cell_type": "code",
      "metadata": {
        "id": "C1adYLSbsA_F",
        "colab_type": "code",
        "outputId": "86a90260-a5ac-4952-f8dc-4d83fb8347e3",
        "colab": {
          "base_uri": "https://localhost:8080/",
          "height": 67
        }
      },
      "source": [
        "###############################################################\n",
        "print(len(train_indices))\n",
        "print(len(test_indices))\n",
        "print(len(valid_indices))"
      ],
      "execution_count": 42,
      "outputs": [
        {
          "output_type": "stream",
          "text": [
            "2144\n",
            "0\n",
            "920\n"
          ],
          "name": "stdout"
        }
      ]
    },
    {
      "cell_type": "code",
      "metadata": {
        "id": "R9-HpuHhsA_I",
        "colab_type": "code",
        "colab": {}
      },
      "source": [
        "##################### Network#################"
      ],
      "execution_count": 0,
      "outputs": []
    },
    {
      "cell_type": "code",
      "metadata": {
        "id": "Yb-NfMIt3tJA",
        "colab_type": "code",
        "colab": {}
      },
      "source": [
        "import torch.nn as nn\n",
        "import torch.optim as optim\n",
        "from torch.optim import lr_scheduler\n",
        "import copy\n",
        "import time"
      ],
      "execution_count": 0,
      "outputs": []
    },
    {
      "cell_type": "code",
      "metadata": {
        "id": "eN3XJCe73_ZK",
        "colab_type": "code",
        "outputId": "8d537500-bc21-4043-f4e9-5ce4b1a8bda6",
        "colab": {
          "base_uri": "https://localhost:8080/",
          "height": 34
        }
      },
      "source": [
        "device = 'cuda:0' if torch.cuda.is_available() else 'cpu'\n",
        "device"
      ],
      "execution_count": 28,
      "outputs": [
        {
          "output_type": "execute_result",
          "data": {
            "text/plain": [
              "'cuda:0'"
            ]
          },
          "metadata": {
            "tags": []
          },
          "execution_count": 28
        }
      ]
    },
    {
      "cell_type": "code",
      "metadata": {
        "id": "Td9K60XxKrRL",
        "colab_type": "code",
        "outputId": "ed112dcd-21e1-4991-e71f-0a594e613a52",
        "colab": {
          "base_uri": "https://localhost:8080/",
          "height": 34
        }
      },
      "source": [
        "dataset_sizes = {'train': len(train_indices), 'val': len(valid_indices)}\n",
        "dataset_sizes"
      ],
      "execution_count": 43,
      "outputs": [
        {
          "output_type": "execute_result",
          "data": {
            "text/plain": [
              "{'train': 2144, 'val': 920}"
            ]
          },
          "metadata": {
            "tags": []
          },
          "execution_count": 43
        }
      ]
    },
    {
      "cell_type": "code",
      "metadata": {
        "id": "8JfwX16OsA_U",
        "colab_type": "code",
        "colab": {}
      },
      "source": [
        "def train_model(model, criterion, optimizer, scheduler, num_epochs=25):\n",
        "    since = time.time()\n",
        "\n",
        "    best_model_wts = copy.deepcopy(model.state_dict())\n",
        "    best_acc = 0.0\n",
        "\n",
        "    for epoch in range(num_epochs):\n",
        "        print('Epoch {}/{}'.format(epoch, num_epochs - 1))\n",
        "        print('-' * 10)\n",
        "\n",
        "        # Each epoch has a training and validation phase\n",
        "        for phase in ['train', 'val']:\n",
        "            if phase == 'train':\n",
        "                model.train()  # Set model to training mode\n",
        "                dataloader = train_loader\n",
        "            else:\n",
        "                model.eval()   # Set model to evaluate mode\n",
        "                dataloader = valid_loader\n",
        "\n",
        "            running_loss = 0.0\n",
        "            running_corrects = 0\n",
        "\n",
        "\n",
        "            # Iterate over data.\n",
        "            for inputs, labels in dataloader:\n",
        "                inputs = inputs.to(device)\n",
        "                labels = labels.to(device)\n",
        "\n",
        "                # zero the parameter gradients\n",
        "                optimizer.zero_grad()\n",
        "\n",
        "                # forward\n",
        "                # track history if only in train\n",
        "                with torch.set_grad_enabled(phase == 'train'):\n",
        "                    outputs = model(inputs)\n",
        "                    \n",
        "                    _, preds = torch.max(outputs, 1)\n",
        "                    loss = criterion(outputs, labels)\n",
        "\n",
        "                    # backward + optimize only if in training phase\n",
        "                    if phase == 'train':\n",
        "                        loss.backward()\n",
        "                        optimizer.step()\n",
        "\n",
        "                # statistics\n",
        "                running_loss += loss.item() * inputs.size(0)\n",
        "                running_corrects += torch.sum(preds == labels.data)\n",
        "            if phase == 'train':\n",
        "                scheduler.step()\n",
        "\n",
        "            epoch_loss = running_loss / dataset_sizes[phase]\n",
        "            epoch_acc = running_corrects.double() / dataset_sizes[phase]\n",
        "\n",
        "            print('{} Loss: {:.4f} Acc: {:.4f}'.format(\n",
        "                phase, epoch_loss, epoch_acc))\n",
        "\n",
        "            # deep copy the model\n",
        "            if phase == 'val' and epoch_acc > best_acc:\n",
        "                best_acc = epoch_acc\n",
        "                best_model_wts = copy.deepcopy(model.state_dict())\n",
        "\n",
        "        print()\n",
        "\n",
        "    time_elapsed = time.time() - since\n",
        "    print('Training complete in {:.0f}m {:.0f}s'.format(\n",
        "        time_elapsed // 60, time_elapsed % 60))\n",
        "    print('Best val Acc: {:4f}'.format(best_acc))\n",
        "\n",
        "    # load best model weights\n",
        "    model.load_state_dict(best_model_wts)\n",
        "    return model"
      ],
      "execution_count": 0,
      "outputs": []
    },
    {
      "cell_type": "code",
      "metadata": {
        "id": "-dwxZzcu33_M",
        "colab_type": "code",
        "colab": {}
      },
      "source": [
        "# def visualize_model(model, num_images=6):\n",
        "#     was_training = model.training\n",
        "#     model.eval()\n",
        "#     images_so_far = 0\n",
        "#     fig = plt.figure()\n",
        "\n",
        "#     with torch.no_grad():\n",
        "#         for i, (inputs, labels) in enumerate(valid_loader):\n",
        "#             inputs = inputs.to(device)\n",
        "#             labels = labels.to(device)\n",
        "\n",
        "#             outputs = model(inputs)\n",
        "#             _, preds = torch.max(outputs, 1)\n",
        "\n",
        "#             for j in range(inputs.size()[0]):\n",
        "#                 images_so_far += 1\n",
        "#                 ax = plt.subplot(num_images//2, 2, images_so_far)\n",
        "#                 ax.axis('off')\n",
        "#                 ax.set_title('predicted: {}'.format(class_names[preds[j]]))\n",
        "#                 imshow(inputs.cpu().data[j])\n",
        "\n",
        "#                 if images_so_far == num_images:\n",
        "#                     model.train(mode=was_training)\n",
        "#                     return\n",
        "#         model.train(mode=was_training)"
      ],
      "execution_count": 0,
      "outputs": []
    },
    {
      "cell_type": "code",
      "metadata": {
        "id": "2NJUzi9o4sCE",
        "colab_type": "code",
        "colab": {}
      },
      "source": [
        "network = models.vgg11_bn(pretrained=False)\n",
        "num_features = network.classifier[6].in_features\n",
        "###########################################  {{here!!}}\n",
        "network.classifier[6] = nn.Linear(num_features, 3)\n",
        "###########################################  {{here!!}}\n",
        "network.features[0] = nn.Conv2d(1, 64, kernel_size=(3, 3), stride=(1, 1), padding=(1, 1))\n",
        "network = network.to(device)"
      ],
      "execution_count": 0,
      "outputs": []
    },
    {
      "cell_type": "code",
      "metadata": {
        "id": "ZNrbBWPsRV-H",
        "colab_type": "code",
        "outputId": "95b5c4ff-d451-4a36-b37c-32d67c2dcf4a",
        "colab": {
          "base_uri": "https://localhost:8080/",
          "height": 1000
        }
      },
      "source": [
        "resnet50_model = models.resnet50(pretrained=True)\n",
        "resnet50_model.conv1 = nn.Conv2d(1, 64, kernel_size=(7, 7), stride=(2, 2), padding=(3, 3), bias=False)\n",
        "resnet50_model.fc = nn.Linear(in_features=2048, out_features=3, bias=True)\n",
        "resnet50_model.to(device)"
      ],
      "execution_count": 44,
      "outputs": [
        {
          "output_type": "execute_result",
          "data": {
            "text/plain": [
              "ResNet(\n",
              "  (conv1): Conv2d(1, 64, kernel_size=(7, 7), stride=(2, 2), padding=(3, 3), bias=False)\n",
              "  (bn1): BatchNorm2d(64, eps=1e-05, momentum=0.1, affine=True, track_running_stats=True)\n",
              "  (relu): ReLU(inplace=True)\n",
              "  (maxpool): MaxPool2d(kernel_size=3, stride=2, padding=1, dilation=1, ceil_mode=False)\n",
              "  (layer1): Sequential(\n",
              "    (0): Bottleneck(\n",
              "      (conv1): Conv2d(64, 64, kernel_size=(1, 1), stride=(1, 1), bias=False)\n",
              "      (bn1): BatchNorm2d(64, eps=1e-05, momentum=0.1, affine=True, track_running_stats=True)\n",
              "      (conv2): Conv2d(64, 64, kernel_size=(3, 3), stride=(1, 1), padding=(1, 1), bias=False)\n",
              "      (bn2): BatchNorm2d(64, eps=1e-05, momentum=0.1, affine=True, track_running_stats=True)\n",
              "      (conv3): Conv2d(64, 256, kernel_size=(1, 1), stride=(1, 1), bias=False)\n",
              "      (bn3): BatchNorm2d(256, eps=1e-05, momentum=0.1, affine=True, track_running_stats=True)\n",
              "      (relu): ReLU(inplace=True)\n",
              "      (downsample): Sequential(\n",
              "        (0): Conv2d(64, 256, kernel_size=(1, 1), stride=(1, 1), bias=False)\n",
              "        (1): BatchNorm2d(256, eps=1e-05, momentum=0.1, affine=True, track_running_stats=True)\n",
              "      )\n",
              "    )\n",
              "    (1): Bottleneck(\n",
              "      (conv1): Conv2d(256, 64, kernel_size=(1, 1), stride=(1, 1), bias=False)\n",
              "      (bn1): BatchNorm2d(64, eps=1e-05, momentum=0.1, affine=True, track_running_stats=True)\n",
              "      (conv2): Conv2d(64, 64, kernel_size=(3, 3), stride=(1, 1), padding=(1, 1), bias=False)\n",
              "      (bn2): BatchNorm2d(64, eps=1e-05, momentum=0.1, affine=True, track_running_stats=True)\n",
              "      (conv3): Conv2d(64, 256, kernel_size=(1, 1), stride=(1, 1), bias=False)\n",
              "      (bn3): BatchNorm2d(256, eps=1e-05, momentum=0.1, affine=True, track_running_stats=True)\n",
              "      (relu): ReLU(inplace=True)\n",
              "    )\n",
              "    (2): Bottleneck(\n",
              "      (conv1): Conv2d(256, 64, kernel_size=(1, 1), stride=(1, 1), bias=False)\n",
              "      (bn1): BatchNorm2d(64, eps=1e-05, momentum=0.1, affine=True, track_running_stats=True)\n",
              "      (conv2): Conv2d(64, 64, kernel_size=(3, 3), stride=(1, 1), padding=(1, 1), bias=False)\n",
              "      (bn2): BatchNorm2d(64, eps=1e-05, momentum=0.1, affine=True, track_running_stats=True)\n",
              "      (conv3): Conv2d(64, 256, kernel_size=(1, 1), stride=(1, 1), bias=False)\n",
              "      (bn3): BatchNorm2d(256, eps=1e-05, momentum=0.1, affine=True, track_running_stats=True)\n",
              "      (relu): ReLU(inplace=True)\n",
              "    )\n",
              "  )\n",
              "  (layer2): Sequential(\n",
              "    (0): Bottleneck(\n",
              "      (conv1): Conv2d(256, 128, kernel_size=(1, 1), stride=(1, 1), bias=False)\n",
              "      (bn1): BatchNorm2d(128, eps=1e-05, momentum=0.1, affine=True, track_running_stats=True)\n",
              "      (conv2): Conv2d(128, 128, kernel_size=(3, 3), stride=(2, 2), padding=(1, 1), bias=False)\n",
              "      (bn2): BatchNorm2d(128, eps=1e-05, momentum=0.1, affine=True, track_running_stats=True)\n",
              "      (conv3): Conv2d(128, 512, kernel_size=(1, 1), stride=(1, 1), bias=False)\n",
              "      (bn3): BatchNorm2d(512, eps=1e-05, momentum=0.1, affine=True, track_running_stats=True)\n",
              "      (relu): ReLU(inplace=True)\n",
              "      (downsample): Sequential(\n",
              "        (0): Conv2d(256, 512, kernel_size=(1, 1), stride=(2, 2), bias=False)\n",
              "        (1): BatchNorm2d(512, eps=1e-05, momentum=0.1, affine=True, track_running_stats=True)\n",
              "      )\n",
              "    )\n",
              "    (1): Bottleneck(\n",
              "      (conv1): Conv2d(512, 128, kernel_size=(1, 1), stride=(1, 1), bias=False)\n",
              "      (bn1): BatchNorm2d(128, eps=1e-05, momentum=0.1, affine=True, track_running_stats=True)\n",
              "      (conv2): Conv2d(128, 128, kernel_size=(3, 3), stride=(1, 1), padding=(1, 1), bias=False)\n",
              "      (bn2): BatchNorm2d(128, eps=1e-05, momentum=0.1, affine=True, track_running_stats=True)\n",
              "      (conv3): Conv2d(128, 512, kernel_size=(1, 1), stride=(1, 1), bias=False)\n",
              "      (bn3): BatchNorm2d(512, eps=1e-05, momentum=0.1, affine=True, track_running_stats=True)\n",
              "      (relu): ReLU(inplace=True)\n",
              "    )\n",
              "    (2): Bottleneck(\n",
              "      (conv1): Conv2d(512, 128, kernel_size=(1, 1), stride=(1, 1), bias=False)\n",
              "      (bn1): BatchNorm2d(128, eps=1e-05, momentum=0.1, affine=True, track_running_stats=True)\n",
              "      (conv2): Conv2d(128, 128, kernel_size=(3, 3), stride=(1, 1), padding=(1, 1), bias=False)\n",
              "      (bn2): BatchNorm2d(128, eps=1e-05, momentum=0.1, affine=True, track_running_stats=True)\n",
              "      (conv3): Conv2d(128, 512, kernel_size=(1, 1), stride=(1, 1), bias=False)\n",
              "      (bn3): BatchNorm2d(512, eps=1e-05, momentum=0.1, affine=True, track_running_stats=True)\n",
              "      (relu): ReLU(inplace=True)\n",
              "    )\n",
              "    (3): Bottleneck(\n",
              "      (conv1): Conv2d(512, 128, kernel_size=(1, 1), stride=(1, 1), bias=False)\n",
              "      (bn1): BatchNorm2d(128, eps=1e-05, momentum=0.1, affine=True, track_running_stats=True)\n",
              "      (conv2): Conv2d(128, 128, kernel_size=(3, 3), stride=(1, 1), padding=(1, 1), bias=False)\n",
              "      (bn2): BatchNorm2d(128, eps=1e-05, momentum=0.1, affine=True, track_running_stats=True)\n",
              "      (conv3): Conv2d(128, 512, kernel_size=(1, 1), stride=(1, 1), bias=False)\n",
              "      (bn3): BatchNorm2d(512, eps=1e-05, momentum=0.1, affine=True, track_running_stats=True)\n",
              "      (relu): ReLU(inplace=True)\n",
              "    )\n",
              "  )\n",
              "  (layer3): Sequential(\n",
              "    (0): Bottleneck(\n",
              "      (conv1): Conv2d(512, 256, kernel_size=(1, 1), stride=(1, 1), bias=False)\n",
              "      (bn1): BatchNorm2d(256, eps=1e-05, momentum=0.1, affine=True, track_running_stats=True)\n",
              "      (conv2): Conv2d(256, 256, kernel_size=(3, 3), stride=(2, 2), padding=(1, 1), bias=False)\n",
              "      (bn2): BatchNorm2d(256, eps=1e-05, momentum=0.1, affine=True, track_running_stats=True)\n",
              "      (conv3): Conv2d(256, 1024, kernel_size=(1, 1), stride=(1, 1), bias=False)\n",
              "      (bn3): BatchNorm2d(1024, eps=1e-05, momentum=0.1, affine=True, track_running_stats=True)\n",
              "      (relu): ReLU(inplace=True)\n",
              "      (downsample): Sequential(\n",
              "        (0): Conv2d(512, 1024, kernel_size=(1, 1), stride=(2, 2), bias=False)\n",
              "        (1): BatchNorm2d(1024, eps=1e-05, momentum=0.1, affine=True, track_running_stats=True)\n",
              "      )\n",
              "    )\n",
              "    (1): Bottleneck(\n",
              "      (conv1): Conv2d(1024, 256, kernel_size=(1, 1), stride=(1, 1), bias=False)\n",
              "      (bn1): BatchNorm2d(256, eps=1e-05, momentum=0.1, affine=True, track_running_stats=True)\n",
              "      (conv2): Conv2d(256, 256, kernel_size=(3, 3), stride=(1, 1), padding=(1, 1), bias=False)\n",
              "      (bn2): BatchNorm2d(256, eps=1e-05, momentum=0.1, affine=True, track_running_stats=True)\n",
              "      (conv3): Conv2d(256, 1024, kernel_size=(1, 1), stride=(1, 1), bias=False)\n",
              "      (bn3): BatchNorm2d(1024, eps=1e-05, momentum=0.1, affine=True, track_running_stats=True)\n",
              "      (relu): ReLU(inplace=True)\n",
              "    )\n",
              "    (2): Bottleneck(\n",
              "      (conv1): Conv2d(1024, 256, kernel_size=(1, 1), stride=(1, 1), bias=False)\n",
              "      (bn1): BatchNorm2d(256, eps=1e-05, momentum=0.1, affine=True, track_running_stats=True)\n",
              "      (conv2): Conv2d(256, 256, kernel_size=(3, 3), stride=(1, 1), padding=(1, 1), bias=False)\n",
              "      (bn2): BatchNorm2d(256, eps=1e-05, momentum=0.1, affine=True, track_running_stats=True)\n",
              "      (conv3): Conv2d(256, 1024, kernel_size=(1, 1), stride=(1, 1), bias=False)\n",
              "      (bn3): BatchNorm2d(1024, eps=1e-05, momentum=0.1, affine=True, track_running_stats=True)\n",
              "      (relu): ReLU(inplace=True)\n",
              "    )\n",
              "    (3): Bottleneck(\n",
              "      (conv1): Conv2d(1024, 256, kernel_size=(1, 1), stride=(1, 1), bias=False)\n",
              "      (bn1): BatchNorm2d(256, eps=1e-05, momentum=0.1, affine=True, track_running_stats=True)\n",
              "      (conv2): Conv2d(256, 256, kernel_size=(3, 3), stride=(1, 1), padding=(1, 1), bias=False)\n",
              "      (bn2): BatchNorm2d(256, eps=1e-05, momentum=0.1, affine=True, track_running_stats=True)\n",
              "      (conv3): Conv2d(256, 1024, kernel_size=(1, 1), stride=(1, 1), bias=False)\n",
              "      (bn3): BatchNorm2d(1024, eps=1e-05, momentum=0.1, affine=True, track_running_stats=True)\n",
              "      (relu): ReLU(inplace=True)\n",
              "    )\n",
              "    (4): Bottleneck(\n",
              "      (conv1): Conv2d(1024, 256, kernel_size=(1, 1), stride=(1, 1), bias=False)\n",
              "      (bn1): BatchNorm2d(256, eps=1e-05, momentum=0.1, affine=True, track_running_stats=True)\n",
              "      (conv2): Conv2d(256, 256, kernel_size=(3, 3), stride=(1, 1), padding=(1, 1), bias=False)\n",
              "      (bn2): BatchNorm2d(256, eps=1e-05, momentum=0.1, affine=True, track_running_stats=True)\n",
              "      (conv3): Conv2d(256, 1024, kernel_size=(1, 1), stride=(1, 1), bias=False)\n",
              "      (bn3): BatchNorm2d(1024, eps=1e-05, momentum=0.1, affine=True, track_running_stats=True)\n",
              "      (relu): ReLU(inplace=True)\n",
              "    )\n",
              "    (5): Bottleneck(\n",
              "      (conv1): Conv2d(1024, 256, kernel_size=(1, 1), stride=(1, 1), bias=False)\n",
              "      (bn1): BatchNorm2d(256, eps=1e-05, momentum=0.1, affine=True, track_running_stats=True)\n",
              "      (conv2): Conv2d(256, 256, kernel_size=(3, 3), stride=(1, 1), padding=(1, 1), bias=False)\n",
              "      (bn2): BatchNorm2d(256, eps=1e-05, momentum=0.1, affine=True, track_running_stats=True)\n",
              "      (conv3): Conv2d(256, 1024, kernel_size=(1, 1), stride=(1, 1), bias=False)\n",
              "      (bn3): BatchNorm2d(1024, eps=1e-05, momentum=0.1, affine=True, track_running_stats=True)\n",
              "      (relu): ReLU(inplace=True)\n",
              "    )\n",
              "  )\n",
              "  (layer4): Sequential(\n",
              "    (0): Bottleneck(\n",
              "      (conv1): Conv2d(1024, 512, kernel_size=(1, 1), stride=(1, 1), bias=False)\n",
              "      (bn1): BatchNorm2d(512, eps=1e-05, momentum=0.1, affine=True, track_running_stats=True)\n",
              "      (conv2): Conv2d(512, 512, kernel_size=(3, 3), stride=(2, 2), padding=(1, 1), bias=False)\n",
              "      (bn2): BatchNorm2d(512, eps=1e-05, momentum=0.1, affine=True, track_running_stats=True)\n",
              "      (conv3): Conv2d(512, 2048, kernel_size=(1, 1), stride=(1, 1), bias=False)\n",
              "      (bn3): BatchNorm2d(2048, eps=1e-05, momentum=0.1, affine=True, track_running_stats=True)\n",
              "      (relu): ReLU(inplace=True)\n",
              "      (downsample): Sequential(\n",
              "        (0): Conv2d(1024, 2048, kernel_size=(1, 1), stride=(2, 2), bias=False)\n",
              "        (1): BatchNorm2d(2048, eps=1e-05, momentum=0.1, affine=True, track_running_stats=True)\n",
              "      )\n",
              "    )\n",
              "    (1): Bottleneck(\n",
              "      (conv1): Conv2d(2048, 512, kernel_size=(1, 1), stride=(1, 1), bias=False)\n",
              "      (bn1): BatchNorm2d(512, eps=1e-05, momentum=0.1, affine=True, track_running_stats=True)\n",
              "      (conv2): Conv2d(512, 512, kernel_size=(3, 3), stride=(1, 1), padding=(1, 1), bias=False)\n",
              "      (bn2): BatchNorm2d(512, eps=1e-05, momentum=0.1, affine=True, track_running_stats=True)\n",
              "      (conv3): Conv2d(512, 2048, kernel_size=(1, 1), stride=(1, 1), bias=False)\n",
              "      (bn3): BatchNorm2d(2048, eps=1e-05, momentum=0.1, affine=True, track_running_stats=True)\n",
              "      (relu): ReLU(inplace=True)\n",
              "    )\n",
              "    (2): Bottleneck(\n",
              "      (conv1): Conv2d(2048, 512, kernel_size=(1, 1), stride=(1, 1), bias=False)\n",
              "      (bn1): BatchNorm2d(512, eps=1e-05, momentum=0.1, affine=True, track_running_stats=True)\n",
              "      (conv2): Conv2d(512, 512, kernel_size=(3, 3), stride=(1, 1), padding=(1, 1), bias=False)\n",
              "      (bn2): BatchNorm2d(512, eps=1e-05, momentum=0.1, affine=True, track_running_stats=True)\n",
              "      (conv3): Conv2d(512, 2048, kernel_size=(1, 1), stride=(1, 1), bias=False)\n",
              "      (bn3): BatchNorm2d(2048, eps=1e-05, momentum=0.1, affine=True, track_running_stats=True)\n",
              "      (relu): ReLU(inplace=True)\n",
              "    )\n",
              "  )\n",
              "  (avgpool): AdaptiveAvgPool2d(output_size=(1, 1))\n",
              "  (fc): Linear(in_features=2048, out_features=3, bias=True)\n",
              ")"
            ]
          },
          "metadata": {
            "tags": []
          },
          "execution_count": 44
        }
      ]
    },
    {
      "cell_type": "code",
      "metadata": {
        "id": "J0o8hFAzR-ju",
        "colab_type": "code",
        "outputId": "f3a74487-4d8a-45fb-db32-5e8b92f852be",
        "colab": {
          "base_uri": "https://localhost:8080/",
          "height": 1000
        }
      },
      "source": [
        "from torchsummary import summary\n",
        "\n",
        "summary(resnet50_model, (1, 256, 256))"
      ],
      "execution_count": 45,
      "outputs": [
        {
          "output_type": "stream",
          "text": [
            "----------------------------------------------------------------\n",
            "        Layer (type)               Output Shape         Param #\n",
            "================================================================\n",
            "            Conv2d-1         [-1, 64, 128, 128]           3,136\n",
            "       BatchNorm2d-2         [-1, 64, 128, 128]             128\n",
            "              ReLU-3         [-1, 64, 128, 128]               0\n",
            "         MaxPool2d-4           [-1, 64, 64, 64]               0\n",
            "            Conv2d-5           [-1, 64, 64, 64]           4,096\n",
            "       BatchNorm2d-6           [-1, 64, 64, 64]             128\n",
            "              ReLU-7           [-1, 64, 64, 64]               0\n",
            "            Conv2d-8           [-1, 64, 64, 64]          36,864\n",
            "       BatchNorm2d-9           [-1, 64, 64, 64]             128\n",
            "             ReLU-10           [-1, 64, 64, 64]               0\n",
            "           Conv2d-11          [-1, 256, 64, 64]          16,384\n",
            "      BatchNorm2d-12          [-1, 256, 64, 64]             512\n",
            "           Conv2d-13          [-1, 256, 64, 64]          16,384\n",
            "      BatchNorm2d-14          [-1, 256, 64, 64]             512\n",
            "             ReLU-15          [-1, 256, 64, 64]               0\n",
            "       Bottleneck-16          [-1, 256, 64, 64]               0\n",
            "           Conv2d-17           [-1, 64, 64, 64]          16,384\n",
            "      BatchNorm2d-18           [-1, 64, 64, 64]             128\n",
            "             ReLU-19           [-1, 64, 64, 64]               0\n",
            "           Conv2d-20           [-1, 64, 64, 64]          36,864\n",
            "      BatchNorm2d-21           [-1, 64, 64, 64]             128\n",
            "             ReLU-22           [-1, 64, 64, 64]               0\n",
            "           Conv2d-23          [-1, 256, 64, 64]          16,384\n",
            "      BatchNorm2d-24          [-1, 256, 64, 64]             512\n",
            "             ReLU-25          [-1, 256, 64, 64]               0\n",
            "       Bottleneck-26          [-1, 256, 64, 64]               0\n",
            "           Conv2d-27           [-1, 64, 64, 64]          16,384\n",
            "      BatchNorm2d-28           [-1, 64, 64, 64]             128\n",
            "             ReLU-29           [-1, 64, 64, 64]               0\n",
            "           Conv2d-30           [-1, 64, 64, 64]          36,864\n",
            "      BatchNorm2d-31           [-1, 64, 64, 64]             128\n",
            "             ReLU-32           [-1, 64, 64, 64]               0\n",
            "           Conv2d-33          [-1, 256, 64, 64]          16,384\n",
            "      BatchNorm2d-34          [-1, 256, 64, 64]             512\n",
            "             ReLU-35          [-1, 256, 64, 64]               0\n",
            "       Bottleneck-36          [-1, 256, 64, 64]               0\n",
            "           Conv2d-37          [-1, 128, 64, 64]          32,768\n",
            "      BatchNorm2d-38          [-1, 128, 64, 64]             256\n",
            "             ReLU-39          [-1, 128, 64, 64]               0\n",
            "           Conv2d-40          [-1, 128, 32, 32]         147,456\n",
            "      BatchNorm2d-41          [-1, 128, 32, 32]             256\n",
            "             ReLU-42          [-1, 128, 32, 32]               0\n",
            "           Conv2d-43          [-1, 512, 32, 32]          65,536\n",
            "      BatchNorm2d-44          [-1, 512, 32, 32]           1,024\n",
            "           Conv2d-45          [-1, 512, 32, 32]         131,072\n",
            "      BatchNorm2d-46          [-1, 512, 32, 32]           1,024\n",
            "             ReLU-47          [-1, 512, 32, 32]               0\n",
            "       Bottleneck-48          [-1, 512, 32, 32]               0\n",
            "           Conv2d-49          [-1, 128, 32, 32]          65,536\n",
            "      BatchNorm2d-50          [-1, 128, 32, 32]             256\n",
            "             ReLU-51          [-1, 128, 32, 32]               0\n",
            "           Conv2d-52          [-1, 128, 32, 32]         147,456\n",
            "      BatchNorm2d-53          [-1, 128, 32, 32]             256\n",
            "             ReLU-54          [-1, 128, 32, 32]               0\n",
            "           Conv2d-55          [-1, 512, 32, 32]          65,536\n",
            "      BatchNorm2d-56          [-1, 512, 32, 32]           1,024\n",
            "             ReLU-57          [-1, 512, 32, 32]               0\n",
            "       Bottleneck-58          [-1, 512, 32, 32]               0\n",
            "           Conv2d-59          [-1, 128, 32, 32]          65,536\n",
            "      BatchNorm2d-60          [-1, 128, 32, 32]             256\n",
            "             ReLU-61          [-1, 128, 32, 32]               0\n",
            "           Conv2d-62          [-1, 128, 32, 32]         147,456\n",
            "      BatchNorm2d-63          [-1, 128, 32, 32]             256\n",
            "             ReLU-64          [-1, 128, 32, 32]               0\n",
            "           Conv2d-65          [-1, 512, 32, 32]          65,536\n",
            "      BatchNorm2d-66          [-1, 512, 32, 32]           1,024\n",
            "             ReLU-67          [-1, 512, 32, 32]               0\n",
            "       Bottleneck-68          [-1, 512, 32, 32]               0\n",
            "           Conv2d-69          [-1, 128, 32, 32]          65,536\n",
            "      BatchNorm2d-70          [-1, 128, 32, 32]             256\n",
            "             ReLU-71          [-1, 128, 32, 32]               0\n",
            "           Conv2d-72          [-1, 128, 32, 32]         147,456\n",
            "      BatchNorm2d-73          [-1, 128, 32, 32]             256\n",
            "             ReLU-74          [-1, 128, 32, 32]               0\n",
            "           Conv2d-75          [-1, 512, 32, 32]          65,536\n",
            "      BatchNorm2d-76          [-1, 512, 32, 32]           1,024\n",
            "             ReLU-77          [-1, 512, 32, 32]               0\n",
            "       Bottleneck-78          [-1, 512, 32, 32]               0\n",
            "           Conv2d-79          [-1, 256, 32, 32]         131,072\n",
            "      BatchNorm2d-80          [-1, 256, 32, 32]             512\n",
            "             ReLU-81          [-1, 256, 32, 32]               0\n",
            "           Conv2d-82          [-1, 256, 16, 16]         589,824\n",
            "      BatchNorm2d-83          [-1, 256, 16, 16]             512\n",
            "             ReLU-84          [-1, 256, 16, 16]               0\n",
            "           Conv2d-85         [-1, 1024, 16, 16]         262,144\n",
            "      BatchNorm2d-86         [-1, 1024, 16, 16]           2,048\n",
            "           Conv2d-87         [-1, 1024, 16, 16]         524,288\n",
            "      BatchNorm2d-88         [-1, 1024, 16, 16]           2,048\n",
            "             ReLU-89         [-1, 1024, 16, 16]               0\n",
            "       Bottleneck-90         [-1, 1024, 16, 16]               0\n",
            "           Conv2d-91          [-1, 256, 16, 16]         262,144\n",
            "      BatchNorm2d-92          [-1, 256, 16, 16]             512\n",
            "             ReLU-93          [-1, 256, 16, 16]               0\n",
            "           Conv2d-94          [-1, 256, 16, 16]         589,824\n",
            "      BatchNorm2d-95          [-1, 256, 16, 16]             512\n",
            "             ReLU-96          [-1, 256, 16, 16]               0\n",
            "           Conv2d-97         [-1, 1024, 16, 16]         262,144\n",
            "      BatchNorm2d-98         [-1, 1024, 16, 16]           2,048\n",
            "             ReLU-99         [-1, 1024, 16, 16]               0\n",
            "      Bottleneck-100         [-1, 1024, 16, 16]               0\n",
            "          Conv2d-101          [-1, 256, 16, 16]         262,144\n",
            "     BatchNorm2d-102          [-1, 256, 16, 16]             512\n",
            "            ReLU-103          [-1, 256, 16, 16]               0\n",
            "          Conv2d-104          [-1, 256, 16, 16]         589,824\n",
            "     BatchNorm2d-105          [-1, 256, 16, 16]             512\n",
            "            ReLU-106          [-1, 256, 16, 16]               0\n",
            "          Conv2d-107         [-1, 1024, 16, 16]         262,144\n",
            "     BatchNorm2d-108         [-1, 1024, 16, 16]           2,048\n",
            "            ReLU-109         [-1, 1024, 16, 16]               0\n",
            "      Bottleneck-110         [-1, 1024, 16, 16]               0\n",
            "          Conv2d-111          [-1, 256, 16, 16]         262,144\n",
            "     BatchNorm2d-112          [-1, 256, 16, 16]             512\n",
            "            ReLU-113          [-1, 256, 16, 16]               0\n",
            "          Conv2d-114          [-1, 256, 16, 16]         589,824\n",
            "     BatchNorm2d-115          [-1, 256, 16, 16]             512\n",
            "            ReLU-116          [-1, 256, 16, 16]               0\n",
            "          Conv2d-117         [-1, 1024, 16, 16]         262,144\n",
            "     BatchNorm2d-118         [-1, 1024, 16, 16]           2,048\n",
            "            ReLU-119         [-1, 1024, 16, 16]               0\n",
            "      Bottleneck-120         [-1, 1024, 16, 16]               0\n",
            "          Conv2d-121          [-1, 256, 16, 16]         262,144\n",
            "     BatchNorm2d-122          [-1, 256, 16, 16]             512\n",
            "            ReLU-123          [-1, 256, 16, 16]               0\n",
            "          Conv2d-124          [-1, 256, 16, 16]         589,824\n",
            "     BatchNorm2d-125          [-1, 256, 16, 16]             512\n",
            "            ReLU-126          [-1, 256, 16, 16]               0\n",
            "          Conv2d-127         [-1, 1024, 16, 16]         262,144\n",
            "     BatchNorm2d-128         [-1, 1024, 16, 16]           2,048\n",
            "            ReLU-129         [-1, 1024, 16, 16]               0\n",
            "      Bottleneck-130         [-1, 1024, 16, 16]               0\n",
            "          Conv2d-131          [-1, 256, 16, 16]         262,144\n",
            "     BatchNorm2d-132          [-1, 256, 16, 16]             512\n",
            "            ReLU-133          [-1, 256, 16, 16]               0\n",
            "          Conv2d-134          [-1, 256, 16, 16]         589,824\n",
            "     BatchNorm2d-135          [-1, 256, 16, 16]             512\n",
            "            ReLU-136          [-1, 256, 16, 16]               0\n",
            "          Conv2d-137         [-1, 1024, 16, 16]         262,144\n",
            "     BatchNorm2d-138         [-1, 1024, 16, 16]           2,048\n",
            "            ReLU-139         [-1, 1024, 16, 16]               0\n",
            "      Bottleneck-140         [-1, 1024, 16, 16]               0\n",
            "          Conv2d-141          [-1, 512, 16, 16]         524,288\n",
            "     BatchNorm2d-142          [-1, 512, 16, 16]           1,024\n",
            "            ReLU-143          [-1, 512, 16, 16]               0\n",
            "          Conv2d-144            [-1, 512, 8, 8]       2,359,296\n",
            "     BatchNorm2d-145            [-1, 512, 8, 8]           1,024\n",
            "            ReLU-146            [-1, 512, 8, 8]               0\n",
            "          Conv2d-147           [-1, 2048, 8, 8]       1,048,576\n",
            "     BatchNorm2d-148           [-1, 2048, 8, 8]           4,096\n",
            "          Conv2d-149           [-1, 2048, 8, 8]       2,097,152\n",
            "     BatchNorm2d-150           [-1, 2048, 8, 8]           4,096\n",
            "            ReLU-151           [-1, 2048, 8, 8]               0\n",
            "      Bottleneck-152           [-1, 2048, 8, 8]               0\n",
            "          Conv2d-153            [-1, 512, 8, 8]       1,048,576\n",
            "     BatchNorm2d-154            [-1, 512, 8, 8]           1,024\n",
            "            ReLU-155            [-1, 512, 8, 8]               0\n",
            "          Conv2d-156            [-1, 512, 8, 8]       2,359,296\n",
            "     BatchNorm2d-157            [-1, 512, 8, 8]           1,024\n",
            "            ReLU-158            [-1, 512, 8, 8]               0\n",
            "          Conv2d-159           [-1, 2048, 8, 8]       1,048,576\n",
            "     BatchNorm2d-160           [-1, 2048, 8, 8]           4,096\n",
            "            ReLU-161           [-1, 2048, 8, 8]               0\n",
            "      Bottleneck-162           [-1, 2048, 8, 8]               0\n",
            "          Conv2d-163            [-1, 512, 8, 8]       1,048,576\n",
            "     BatchNorm2d-164            [-1, 512, 8, 8]           1,024\n",
            "            ReLU-165            [-1, 512, 8, 8]               0\n",
            "          Conv2d-166            [-1, 512, 8, 8]       2,359,296\n",
            "     BatchNorm2d-167            [-1, 512, 8, 8]           1,024\n",
            "            ReLU-168            [-1, 512, 8, 8]               0\n",
            "          Conv2d-169           [-1, 2048, 8, 8]       1,048,576\n",
            "     BatchNorm2d-170           [-1, 2048, 8, 8]           4,096\n",
            "            ReLU-171           [-1, 2048, 8, 8]               0\n",
            "      Bottleneck-172           [-1, 2048, 8, 8]               0\n",
            "AdaptiveAvgPool2d-173           [-1, 2048, 1, 1]               0\n",
            "          Linear-174                    [-1, 3]           6,147\n",
            "================================================================\n",
            "Total params: 23,507,907\n",
            "Trainable params: 23,507,907\n",
            "Non-trainable params: 0\n",
            "----------------------------------------------------------------\n",
            "Input size (MB): 0.25\n",
            "Forward/backward pass size (MB): 374.27\n",
            "Params size (MB): 89.68\n",
            "Estimated Total Size (MB): 464.19\n",
            "----------------------------------------------------------------\n"
          ],
          "name": "stdout"
        }
      ]
    },
    {
      "cell_type": "code",
      "metadata": {
        "id": "xiko1pU04BCc",
        "colab_type": "code",
        "colab": {}
      },
      "source": [
        "criterion = nn.CrossEntropyLoss()\n",
        "optimizer = optim.SGD(resnet50_model.parameters(), lr=0.003, momentum=0.9)\n",
        "exp_lr_scheduler = lr_scheduler.StepLR(optimizer, step_size=7, gamma=0.1)"
      ],
      "execution_count": 0,
      "outputs": []
    },
    {
      "cell_type": "code",
      "metadata": {
        "id": "VDGmGVcl4D8E",
        "colab_type": "code",
        "outputId": "d0b0fdcd-48b1-4ca6-b7be-a49c8c6cbd2b",
        "colab": {
          "base_uri": "https://localhost:8080/",
          "height": 739
        }
      },
      "source": [
        "train = train_model(resnet50_model, criterion, optimizer, exp_lr_scheduler, num_epochs=25)"
      ],
      "execution_count": 0,
      "outputs": [
        {
          "output_type": "stream",
          "text": [
            "Epoch 0/24\n",
            "----------\n",
            "train Loss: 0.4884 Acc: 0.7864\n",
            "val Loss: 0.3040 Acc: 0.8750\n",
            "\n",
            "Epoch 1/24\n",
            "----------\n",
            "train Loss: 0.2067 Acc: 0.9277\n",
            "val Loss: 0.6947 Acc: 0.7533\n",
            "\n",
            "Epoch 2/24\n",
            "----------\n",
            "train Loss: 0.1164 Acc: 0.9566\n",
            "val Loss: 0.1772 Acc: 0.9370\n",
            "\n",
            "Epoch 3/24\n",
            "----------\n",
            "train Loss: 0.0490 Acc: 0.9827\n",
            "val Loss: 0.0736 Acc: 0.9728\n",
            "\n",
            "Epoch 4/24\n",
            "----------\n",
            "train Loss: 0.0152 Acc: 0.9967\n",
            "val Loss: 0.0664 Acc: 0.9717\n",
            "\n",
            "Epoch 5/24\n",
            "----------\n",
            "train Loss: 0.0087 Acc: 0.9991\n",
            "val Loss: 0.0578 Acc: 0.9728\n",
            "\n",
            "Epoch 6/24\n",
            "----------\n",
            "train Loss: 0.0255 Acc: 0.9939\n",
            "val Loss: 0.1507 Acc: 0.9446\n",
            "\n",
            "Epoch 7/24\n",
            "----------\n",
            "train Loss: 0.0137 Acc: 0.9967\n",
            "val Loss: 0.0480 Acc: 0.9826\n",
            "\n",
            "Epoch 8/24\n",
            "----------\n",
            "train Loss: 0.0058 Acc: 0.9995\n"
          ],
          "name": "stdout"
        }
      ]
    },
    {
      "cell_type": "code",
      "metadata": {
        "id": "OmPrcf8e4U2G",
        "colab_type": "code",
        "colab": {}
      },
      "source": [
        "# class Normalize(transforms.Normalize):\n",
        "#     super(self).__init__():\n",
        "\n",
        "\n",
        "\n",
        "# # class MyDataset(Dataset):\n",
        "# #     def __init__(self):\n",
        "# #         self.data = torch.randn(100, 3, 24, 24)\n",
        "        \n",
        "# #     def __getitem__(self, index):\n",
        "# #         x = self.data[index]\n",
        "# #         return x\n",
        "\n",
        "# #     def __len__(self):\n",
        "# #         return len(self.data)\n",
        "    \n",
        "\n",
        "# # dataset = MyDataset()\n",
        "# # loader = DataLoader(\n",
        "# #     dataset,\n",
        "# #     batch_size=10,\n",
        "# #     num_workers=1,\n",
        "# #     shuffle=False\n",
        "# # )\n",
        "\n",
        "\n",
        "# mean = 0.\n",
        "# std = 0.\n",
        "# nb_samples = 0.\n",
        "# for data in loader:\n",
        "#     batch_samples = data.size(0)\n",
        "#     data = data.view(batch_samples, data.size(1), -1)\n",
        "#     mean += data.mean(2).sum(0)\n",
        "#     std += data.std(2).sum(0)\n",
        "#     nb_samples += batch_samples\n",
        "\n",
        "# mean /= nb_samples\n",
        "# std /= nb_samples"
      ],
      "execution_count": 0,
      "outputs": []
    },
    {
      "cell_type": "code",
      "metadata": {
        "id": "Lg05HCkBdTfW",
        "colab_type": "code",
        "outputId": "eef3e32e-559c-465a-8523-120511c35609",
        "colab": {
          "base_uri": "https://localhost:8080/",
          "height": 337
        }
      },
      "source": [
        "from torchsummary import summary\n",
        "\n",
        "summary(network, (1, 128, 128), -1, 'cuda')"
      ],
      "execution_count": 0,
      "outputs": [
        {
          "output_type": "error",
          "ename": "RuntimeError",
          "evalue": "ignored",
          "traceback": [
            "\u001b[0;31m---------------------------------------------------------------------------\u001b[0m",
            "\u001b[0;31mRuntimeError\u001b[0m                              Traceback (most recent call last)",
            "\u001b[0;32m<ipython-input-24-5ce459d4634a>\u001b[0m in \u001b[0;36m<module>\u001b[0;34m()\u001b[0m\n\u001b[1;32m      1\u001b[0m \u001b[0;32mfrom\u001b[0m \u001b[0mtorchsummary\u001b[0m \u001b[0;32mimport\u001b[0m \u001b[0msummary\u001b[0m\u001b[0;34m\u001b[0m\u001b[0;34m\u001b[0m\u001b[0m\n\u001b[1;32m      2\u001b[0m \u001b[0;34m\u001b[0m\u001b[0m\n\u001b[0;32m----> 3\u001b[0;31m \u001b[0msummary\u001b[0m\u001b[0;34m(\u001b[0m\u001b[0mnetwork\u001b[0m\u001b[0;34m,\u001b[0m \u001b[0;34m(\u001b[0m\u001b[0;36m1\u001b[0m\u001b[0;34m,\u001b[0m \u001b[0;36m128\u001b[0m\u001b[0;34m,\u001b[0m \u001b[0;36m128\u001b[0m\u001b[0;34m)\u001b[0m\u001b[0;34m,\u001b[0m \u001b[0;34m-\u001b[0m\u001b[0;36m1\u001b[0m\u001b[0;34m,\u001b[0m \u001b[0;34m'cuda'\u001b[0m\u001b[0;34m)\u001b[0m\u001b[0;34m\u001b[0m\u001b[0;34m\u001b[0m\u001b[0m\n\u001b[0m",
            "\u001b[0;32m/usr/local/lib/python3.6/dist-packages/torchsummary/torchsummary.py\u001b[0m in \u001b[0;36msummary\u001b[0;34m(model, input_size, batch_size, device)\u001b[0m\n\u001b[1;32m     58\u001b[0m \u001b[0;34m\u001b[0m\u001b[0m\n\u001b[1;32m     59\u001b[0m     \u001b[0;31m# batch_size of 2 for batchnorm\u001b[0m\u001b[0;34m\u001b[0m\u001b[0;34m\u001b[0m\u001b[0;34m\u001b[0m\u001b[0m\n\u001b[0;32m---> 60\u001b[0;31m     \u001b[0mx\u001b[0m \u001b[0;34m=\u001b[0m \u001b[0;34m[\u001b[0m\u001b[0mtorch\u001b[0m\u001b[0;34m.\u001b[0m\u001b[0mrand\u001b[0m\u001b[0;34m(\u001b[0m\u001b[0;36m2\u001b[0m\u001b[0;34m,\u001b[0m \u001b[0;34m*\u001b[0m\u001b[0min_size\u001b[0m\u001b[0;34m)\u001b[0m\u001b[0;34m.\u001b[0m\u001b[0mtype\u001b[0m\u001b[0;34m(\u001b[0m\u001b[0mdtype\u001b[0m\u001b[0;34m)\u001b[0m \u001b[0;32mfor\u001b[0m \u001b[0min_size\u001b[0m \u001b[0;32min\u001b[0m \u001b[0minput_size\u001b[0m\u001b[0;34m]\u001b[0m\u001b[0;34m\u001b[0m\u001b[0;34m\u001b[0m\u001b[0m\n\u001b[0m\u001b[1;32m     61\u001b[0m     \u001b[0;31m# print(type(x[0]))\u001b[0m\u001b[0;34m\u001b[0m\u001b[0;34m\u001b[0m\u001b[0;34m\u001b[0m\u001b[0m\n\u001b[1;32m     62\u001b[0m \u001b[0;34m\u001b[0m\u001b[0m\n",
            "\u001b[0;32m/usr/local/lib/python3.6/dist-packages/torchsummary/torchsummary.py\u001b[0m in \u001b[0;36m<listcomp>\u001b[0;34m(.0)\u001b[0m\n\u001b[1;32m     58\u001b[0m \u001b[0;34m\u001b[0m\u001b[0m\n\u001b[1;32m     59\u001b[0m     \u001b[0;31m# batch_size of 2 for batchnorm\u001b[0m\u001b[0;34m\u001b[0m\u001b[0;34m\u001b[0m\u001b[0;34m\u001b[0m\u001b[0m\n\u001b[0;32m---> 60\u001b[0;31m     \u001b[0mx\u001b[0m \u001b[0;34m=\u001b[0m \u001b[0;34m[\u001b[0m\u001b[0mtorch\u001b[0m\u001b[0;34m.\u001b[0m\u001b[0mrand\u001b[0m\u001b[0;34m(\u001b[0m\u001b[0;36m2\u001b[0m\u001b[0;34m,\u001b[0m \u001b[0;34m*\u001b[0m\u001b[0min_size\u001b[0m\u001b[0;34m)\u001b[0m\u001b[0;34m.\u001b[0m\u001b[0mtype\u001b[0m\u001b[0;34m(\u001b[0m\u001b[0mdtype\u001b[0m\u001b[0;34m)\u001b[0m \u001b[0;32mfor\u001b[0m \u001b[0min_size\u001b[0m \u001b[0;32min\u001b[0m \u001b[0minput_size\u001b[0m\u001b[0;34m]\u001b[0m\u001b[0;34m\u001b[0m\u001b[0;34m\u001b[0m\u001b[0m\n\u001b[0m\u001b[1;32m     61\u001b[0m     \u001b[0;31m# print(type(x[0]))\u001b[0m\u001b[0;34m\u001b[0m\u001b[0;34m\u001b[0m\u001b[0;34m\u001b[0m\u001b[0m\n\u001b[1;32m     62\u001b[0m \u001b[0;34m\u001b[0m\u001b[0m\n",
            "\u001b[0;31mRuntimeError\u001b[0m: CUDA error: device-side assert triggered"
          ]
        }
      ]
    }
  ]
}